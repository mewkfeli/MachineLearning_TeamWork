{
 "cells": [
  {
   "cell_type": "markdown",
   "id": "7fbe645c",
   "metadata": {},
   "source": [
    "<div align=\"center\">\n",
    "  <h1 style=\"color:#1976d2;\"><b>Командная работа</b></h1>\n",
    "  <p><b>По дисциплине: Машинное обучение и большие данные</b></p>\n",
    "  <p><i>Мухитова Азалия, Каспранов Камиль — 22П-2</i></p>\n",
    "</div>"
   ]
  },
  {
   "cell_type": "markdown",
   "id": "aeebf804",
   "metadata": {},
   "source": [
    "### План выполнения работы\n",
    "\n",
    "#### 1. Определение структуры данных\n",
    "- **Выбор ключевых атрибутов**\n",
    "  - Анализ релевантности признаков для задачи классификации\n",
    "  - Идентификация наиболее информативных признаков\n",
    "- **Обоснование включения/исключения данных**\n",
    "  - Удаление избыточных признаков\n",
    "  - Сохранение семантически значимых атрибутов\n",
    "\n",
    "#### 2. Предобработка текста\n",
    "- **Очистка текста:**\n",
    "  - Удаление стоп-слов, спецсимволов, лишних пробелов\n",
    "  - Приведение к нижнему регистру\n",
    "  - Лемматизация и стемминг\n",
    "  - Нормализация текстовых данных\n",
    "\n",
    "#### 3. Тематическое моделирование\n",
    "- Анализ ключевых слов\n",
    "- Визуализация\n",
    "\n",
    "#### 4. Векторизация текста\n",
    "- **Преобразование текста в числовые векторы:**\n",
    "  - TF-IDF (Term Frequency-Inverse Document Frequency)\n",
    "  - Настройка параметров векторизации\n",
    "\n",
    "#### 5. Классификация ансамблевыми методами\n",
    "- **Стекинг (Stacking)**\n",
    "- **Бэггинг (Bagging)**\n",
    "- **Бустинг (Boosting)**\n",
    "\n",
    "#### 6. Оценка результатов\n",
    "- **Метрики качества:**\n",
    "  - Accuracy, Precision, Recall, F1-Score\n",
    "  - Матрицы ошибок (Confusion Matrix)\n",
    "- **Сравнение производительности моделей**\n",
    "- **Интерпретация результатов**"
   ]
  },
  {
   "cell_type": "code",
   "execution_count": 38,
   "id": "bc2ec407",
   "metadata": {},
   "outputs": [],
   "source": [
    "import pandas as pd\n",
    "import string\n",
    "import re\n",
    "import numpy as np\n",
    "import nltk\n",
    "import pymorphy3\n",
    "import matplotlib.pyplot as plt"
   ]
  },
  {
   "cell_type": "code",
   "execution_count": 39,
   "id": "795c0213",
   "metadata": {},
   "outputs": [
    {
     "name": "stderr",
     "output_type": "stream",
     "text": [
      "C:\\Users\\Program\\AppData\\Local\\Temp\\ipykernel_12936\\2539646407.py:1: DtypeWarning: Columns (9,14) have mixed types. Specify dtype option on import or set low_memory=False.\n",
      "  df =pd.read_csv(\"real_estate_data.csv\")\n"
     ]
    }
   ],
   "source": [
    "df =pd.read_csv(\"real_estate_data.csv\")"
   ]
  },
  {
   "cell_type": "code",
   "execution_count": 40,
   "id": "34be6b30",
   "metadata": {},
   "outputs": [
    {
     "data": {
      "application/vnd.microsoft.datawrangler.viewer.v0+json": {
       "columns": [
        {
         "name": "index",
         "rawType": "int64",
         "type": "integer"
        },
        {
         "name": "id",
         "rawType": "int64",
         "type": "integer"
        },
        {
         "name": "type",
         "rawType": "object",
         "type": "string"
        },
        {
         "name": "sub_type",
         "rawType": "object",
         "type": "string"
        },
        {
         "name": "start_date",
         "rawType": "object",
         "type": "string"
        },
        {
         "name": "end_date",
         "rawType": "object",
         "type": "unknown"
        },
        {
         "name": "listing_type",
         "rawType": "int64",
         "type": "integer"
        },
        {
         "name": "tom",
         "rawType": "int64",
         "type": "integer"
        },
        {
         "name": "building_age",
         "rawType": "object",
         "type": "string"
        },
        {
         "name": "total_floor_count",
         "rawType": "object",
         "type": "string"
        },
        {
         "name": "floor_no",
         "rawType": "object",
         "type": "string"
        },
        {
         "name": "room_count",
         "rawType": "object",
         "type": "string"
        },
        {
         "name": "size",
         "rawType": "float64",
         "type": "float"
        },
        {
         "name": "address",
         "rawType": "object",
         "type": "string"
        },
        {
         "name": "furnished",
         "rawType": "float64",
         "type": "float"
        },
        {
         "name": "heating_type",
         "rawType": "object",
         "type": "string"
        },
        {
         "name": "price",
         "rawType": "float64",
         "type": "float"
        },
        {
         "name": "price_currency",
         "rawType": "object",
         "type": "string"
        }
       ],
       "ref": "1286205b-822c-469d-a30d-4fd2855a733b",
       "rows": [
        [
         "0",
         "1",
         "Konut",
         "Rezidans",
         "12/10/18",
         "1/9/19",
         "2",
         "30",
         "0",
         "20 ve üzeri",
         "2",
         "2+1",
         "90.0",
         "İstanbul/Kartal/Kordonboyu",
         null,
         "Fancoil",
         "3500.0",
         "TRY"
        ],
        [
         "1",
         "2",
         "Konut",
         "Daire",
         "2/13/19",
         null,
         "1",
         "14",
         "0",
         "20 ve üzeri",
         "20 ve üzeri",
         "1+0",
         "43.0",
         "İstanbul/Kartal/Kordonboyu",
         null,
         "Fancoil",
         "490000.0",
         "TRY"
        ],
        [
         "2",
         "3",
         "Konut",
         "Daire",
         "10/9/18",
         "11/8/18",
         "1",
         "30",
         "0",
         "1",
         "Yüksek Giriş",
         "2+1",
         null,
         "Tekirdağ/Çorlu/Reşadiye",
         null,
         "Fancoil",
         "155000.0",
         "TRY"
        ],
        [
         "3",
         "4",
         "Konut",
         "Rezidans",
         "9/10/18",
         "10/10/18",
         "1",
         "30",
         "3",
         "20 ve üzeri",
         "20 ve üzeri",
         "6+1",
         "450.0",
         "İstanbul/Beşiktaş/Levent",
         null,
         "Fancoil",
         "32500000.0",
         "TRY"
        ],
        [
         "4",
         "5",
         "Konut",
         "Rezidans",
         "12/10/18",
         "1/9/19",
         "1",
         "30",
         "0",
         "20 ve üzeri",
         "2",
         "2+1",
         "90.0",
         "İstanbul/Kartal/Kordonboyu",
         null,
         "Fancoil",
         "1450000.0",
         "TRY"
        ]
       ],
       "shape": {
        "columns": 17,
        "rows": 5
       }
      },
      "text/html": [
       "<div>\n",
       "<style scoped>\n",
       "    .dataframe tbody tr th:only-of-type {\n",
       "        vertical-align: middle;\n",
       "    }\n",
       "\n",
       "    .dataframe tbody tr th {\n",
       "        vertical-align: top;\n",
       "    }\n",
       "\n",
       "    .dataframe thead th {\n",
       "        text-align: right;\n",
       "    }\n",
       "</style>\n",
       "<table border=\"1\" class=\"dataframe\">\n",
       "  <thead>\n",
       "    <tr style=\"text-align: right;\">\n",
       "      <th></th>\n",
       "      <th>id</th>\n",
       "      <th>type</th>\n",
       "      <th>sub_type</th>\n",
       "      <th>start_date</th>\n",
       "      <th>end_date</th>\n",
       "      <th>listing_type</th>\n",
       "      <th>tom</th>\n",
       "      <th>building_age</th>\n",
       "      <th>total_floor_count</th>\n",
       "      <th>floor_no</th>\n",
       "      <th>room_count</th>\n",
       "      <th>size</th>\n",
       "      <th>address</th>\n",
       "      <th>furnished</th>\n",
       "      <th>heating_type</th>\n",
       "      <th>price</th>\n",
       "      <th>price_currency</th>\n",
       "    </tr>\n",
       "  </thead>\n",
       "  <tbody>\n",
       "    <tr>\n",
       "      <th>0</th>\n",
       "      <td>1</td>\n",
       "      <td>Konut</td>\n",
       "      <td>Rezidans</td>\n",
       "      <td>12/10/18</td>\n",
       "      <td>1/9/19</td>\n",
       "      <td>2</td>\n",
       "      <td>30</td>\n",
       "      <td>0</td>\n",
       "      <td>20 ve üzeri</td>\n",
       "      <td>2</td>\n",
       "      <td>2+1</td>\n",
       "      <td>90.0</td>\n",
       "      <td>İstanbul/Kartal/Kordonboyu</td>\n",
       "      <td>NaN</td>\n",
       "      <td>Fancoil</td>\n",
       "      <td>3500.0</td>\n",
       "      <td>TRY</td>\n",
       "    </tr>\n",
       "    <tr>\n",
       "      <th>1</th>\n",
       "      <td>2</td>\n",
       "      <td>Konut</td>\n",
       "      <td>Daire</td>\n",
       "      <td>2/13/19</td>\n",
       "      <td>NaN</td>\n",
       "      <td>1</td>\n",
       "      <td>14</td>\n",
       "      <td>0</td>\n",
       "      <td>20 ve üzeri</td>\n",
       "      <td>20 ve üzeri</td>\n",
       "      <td>1+0</td>\n",
       "      <td>43.0</td>\n",
       "      <td>İstanbul/Kartal/Kordonboyu</td>\n",
       "      <td>NaN</td>\n",
       "      <td>Fancoil</td>\n",
       "      <td>490000.0</td>\n",
       "      <td>TRY</td>\n",
       "    </tr>\n",
       "    <tr>\n",
       "      <th>2</th>\n",
       "      <td>3</td>\n",
       "      <td>Konut</td>\n",
       "      <td>Daire</td>\n",
       "      <td>10/9/18</td>\n",
       "      <td>11/8/18</td>\n",
       "      <td>1</td>\n",
       "      <td>30</td>\n",
       "      <td>0</td>\n",
       "      <td>1</td>\n",
       "      <td>Yüksek Giriş</td>\n",
       "      <td>2+1</td>\n",
       "      <td>NaN</td>\n",
       "      <td>Tekirdağ/Çorlu/Reşadiye</td>\n",
       "      <td>NaN</td>\n",
       "      <td>Fancoil</td>\n",
       "      <td>155000.0</td>\n",
       "      <td>TRY</td>\n",
       "    </tr>\n",
       "    <tr>\n",
       "      <th>3</th>\n",
       "      <td>4</td>\n",
       "      <td>Konut</td>\n",
       "      <td>Rezidans</td>\n",
       "      <td>9/10/18</td>\n",
       "      <td>10/10/18</td>\n",
       "      <td>1</td>\n",
       "      <td>30</td>\n",
       "      <td>3</td>\n",
       "      <td>20 ve üzeri</td>\n",
       "      <td>20 ve üzeri</td>\n",
       "      <td>6+1</td>\n",
       "      <td>450.0</td>\n",
       "      <td>İstanbul/Beşiktaş/Levent</td>\n",
       "      <td>NaN</td>\n",
       "      <td>Fancoil</td>\n",
       "      <td>32500000.0</td>\n",
       "      <td>TRY</td>\n",
       "    </tr>\n",
       "    <tr>\n",
       "      <th>4</th>\n",
       "      <td>5</td>\n",
       "      <td>Konut</td>\n",
       "      <td>Rezidans</td>\n",
       "      <td>12/10/18</td>\n",
       "      <td>1/9/19</td>\n",
       "      <td>1</td>\n",
       "      <td>30</td>\n",
       "      <td>0</td>\n",
       "      <td>20 ve üzeri</td>\n",
       "      <td>2</td>\n",
       "      <td>2+1</td>\n",
       "      <td>90.0</td>\n",
       "      <td>İstanbul/Kartal/Kordonboyu</td>\n",
       "      <td>NaN</td>\n",
       "      <td>Fancoil</td>\n",
       "      <td>1450000.0</td>\n",
       "      <td>TRY</td>\n",
       "    </tr>\n",
       "  </tbody>\n",
       "</table>\n",
       "</div>"
      ],
      "text/plain": [
       "   id   type  sub_type start_date  end_date  listing_type  tom building_age  \\\n",
       "0   1  Konut  Rezidans   12/10/18    1/9/19             2   30            0   \n",
       "1   2  Konut     Daire    2/13/19       NaN             1   14            0   \n",
       "2   3  Konut     Daire    10/9/18   11/8/18             1   30            0   \n",
       "3   4  Konut  Rezidans    9/10/18  10/10/18             1   30            3   \n",
       "4   5  Konut  Rezidans   12/10/18    1/9/19             1   30            0   \n",
       "\n",
       "  total_floor_count      floor_no room_count   size  \\\n",
       "0       20 ve üzeri             2        2+1   90.0   \n",
       "1       20 ve üzeri   20 ve üzeri        1+0   43.0   \n",
       "2                 1  Yüksek Giriş        2+1    NaN   \n",
       "3       20 ve üzeri   20 ve üzeri        6+1  450.0   \n",
       "4       20 ve üzeri             2        2+1   90.0   \n",
       "\n",
       "                      address  furnished heating_type       price  \\\n",
       "0  İstanbul/Kartal/Kordonboyu        NaN      Fancoil      3500.0   \n",
       "1  İstanbul/Kartal/Kordonboyu        NaN      Fancoil    490000.0   \n",
       "2     Tekirdağ/Çorlu/Reşadiye        NaN      Fancoil    155000.0   \n",
       "3    İstanbul/Beşiktaş/Levent        NaN      Fancoil  32500000.0   \n",
       "4  İstanbul/Kartal/Kordonboyu        NaN      Fancoil   1450000.0   \n",
       "\n",
       "  price_currency  \n",
       "0            TRY  \n",
       "1            TRY  \n",
       "2            TRY  \n",
       "3            TRY  \n",
       "4            TRY  "
      ]
     },
     "execution_count": 40,
     "metadata": {},
     "output_type": "execute_result"
    }
   ],
   "source": [
    "df.head()"
   ]
  },
  {
   "cell_type": "code",
   "execution_count": 41,
   "id": "b1f579ff",
   "metadata": {},
   "outputs": [
    {
     "name": "stdout",
     "output_type": "stream",
     "text": [
      "<class 'pandas.core.frame.DataFrame'>\n",
      "RangeIndex: 403487 entries, 0 to 403486\n",
      "Data columns (total 17 columns):\n",
      " #   Column             Non-Null Count   Dtype  \n",
      "---  ------             --------------   -----  \n",
      " 0   id                 403487 non-null  int64  \n",
      " 1   type               403487 non-null  object \n",
      " 2   sub_type           403487 non-null  object \n",
      " 3   start_date         403487 non-null  object \n",
      " 4   end_date           266298 non-null  object \n",
      " 5   listing_type       403487 non-null  int64  \n",
      " 6   tom                403487 non-null  int64  \n",
      " 7   building_age       376097 non-null  object \n",
      " 8   total_floor_count  375466 non-null  object \n",
      " 9   floor_no           368191 non-null  object \n",
      " 10  room_count         403487 non-null  object \n",
      " 11  size               257481 non-null  float64\n",
      " 12  address            403487 non-null  object \n",
      " 13  furnished          0 non-null       float64\n",
      " 14  heating_type       375517 non-null  object \n",
      " 15  price              402772 non-null  float64\n",
      " 16  price_currency     402772 non-null  object \n",
      "dtypes: float64(3), int64(3), object(11)\n",
      "memory usage: 52.3+ MB\n"
     ]
    }
   ],
   "source": [
    "df.info()"
   ]
  },
  {
   "cell_type": "markdown",
   "id": "16832231",
   "metadata": {},
   "source": [
    "В датасете 403487 записей и 17 столбцов.\n",
    "Большинство признаков заполнены, но есть пропуски.\n",
    "Столбец furnished полностью пустой и не несёт информации.\n",
    "Данные содержат как числовые, так и категориальные признаки."
   ]
  },
  {
   "cell_type": "markdown",
   "id": "9c42ef92",
   "metadata": {},
   "source": [
    "___"
   ]
  },
  {
   "cell_type": "markdown",
   "id": "7756877e",
   "metadata": {},
   "source": [
    "### Описание структуры датасета недвижимости\n",
    "\n",
    "| № | Столбец | Описание |\n",
    "|---|---------|----------|\n",
    "| 1 | `id` | Уникальный идентификатор объекта недвижимости |\n",
    "| 2 | `type` | Тип свойства: `Konut` (Жилье) |\n",
    "| 3 | `sub_type` | Подтип свойства: `Daire` (Квартира), `Rezidans` (Жилой комплекс) |\n",
    "| 4 | `start_date` | Дата начала активности объявления |\n",
    "| 5 | `end_date` | Дата окончания активности объявления (если применимо) |\n",
    "| 6 | `listing_type` | Тип листинга: `1` - Продажа, `2` - Аренда |\n",
    "| 7 | `tom` | Время на рынке (в днях) |\n",
    "| 8 | `building_age` | Возраст здания (текстовое описание) |\n",
    "| 9 | `total_floor_count` | Общее количество этажей в здании |\n",
    "| 10 | `floor_no` | Номер этажа объекта |\n",
    "| 11 | `room_count` | Количество комнат (формат: \"2+1\") |\n",
    "| 12 | `size` | Площадь объекта в м² |\n",
    "| 13 | `address` | Адрес объекта (город/район/окружение) |\n",
    "| 14 | `furnished` | Меблировка (всегда пусто) |\n",
    "| 15 | `heating_type` | Тип отопления |\n",
    "| 16 | `price` | Цена объекта |\n",
    "| 17 | `price_currency` | Валюта цены: `TRY`, `USD`, `EUR` |"
   ]
  },
  {
   "cell_type": "code",
   "execution_count": 42,
   "id": "7bd27c65",
   "metadata": {},
   "outputs": [],
   "source": [
    "# Удаление полностью пустых колонок\n",
    "df.drop(columns=['furnished'], inplace=True, errors='ignore')"
   ]
  },
  {
   "cell_type": "code",
   "execution_count": 43,
   "id": "1120c04d",
   "metadata": {},
   "outputs": [],
   "source": [
    "# Обработка текстовых полей\n",
    "def parse_room_count(room_str):\n",
    "    \"\"\"Парсинг формата комнат: 2+1, 3+1 и т.д.\"\"\"\n",
    "    if pd.isna(room_str):\n",
    "        return np.nan\n",
    "    \n",
    "    room_str = str(room_str).strip()\n",
    "    # Ищем паттерн типа \"2+1\", \"3+1\" и т.д.\n",
    "    match = re.search(r'(\\d+)\\s*\\+\\s*(\\d+)', room_str)\n",
    "    if match:\n",
    "        rooms = int(match.group(1))\n",
    "        living_rooms = int(match.group(2))\n",
    "        return rooms + living_rooms  # Общее количество комнат\n",
    "    else:\n",
    "        # Пробуем извлечь просто число\n",
    "        try:\n",
    "            return float(room_str)\n",
    "        except:\n",
    "            return np.nan\n",
    "\n",
    "def parse_floor(floor_str):\n",
    "    \"\"\"Парсинг информации о этаже\"\"\"\n",
    "    if pd.isna(floor_str):\n",
    "        return np.nan\n",
    "    \n",
    "    floor_str = str(floor_str).strip().lower()\n",
    "    \n",
    "    # Специальные случаи этажей\n",
    "    special_floors = {\n",
    "        'yüksek giriş': 1,  # 1-й этаж\n",
    "        'giriş kat': 0, 'kot1': 0, 'zemin kat': 0,  # цокольный этаж\n",
    "        'çatı katı': -1,  # мансарда (помечаем специальным значением)\n",
    "        'bahçe katı': -2   # садовый этаж\n",
    "    }\n",
    "    \n",
    "    for key, value in special_floors.items():\n",
    "        if key in floor_str:\n",
    "            return value\n",
    "    \n",
    "    # Пробуем извлечь числовое значение\n",
    "    try:\n",
    "        return float(re.search(r'\\d+', floor_str).group())\n",
    "    except:\n",
    "        return np.nan\n",
    "\n",
    "def parse_building_age(age_str):\n",
    "    \"\"\"Парсинг возраста здания\"\"\"\n",
    "    if pd.isna(age_str):\n",
    "        return np.nan\n",
    "    \n",
    "    age_str = str(age_str).strip().lower()\n",
    "    \n",
    "    # Специальные категории\n",
    "    if 'sıfır' in age_str or '0' in age_str:\n",
    "        return 0  # Новостройка\n",
    "    elif '1-5' in age_str or '1 ile 5' in age_str:\n",
    "        return 3  # Среднее значение диапазона\n",
    "    elif '6-10' in age_str:\n",
    "        return 8\n",
    "    elif '11-15' in age_str:\n",
    "        return 13\n",
    "    elif '16-20' in age_str:\n",
    "        return 18\n",
    "    elif '20+' in age_str or '21' in age_str:\n",
    "        return 25  # Приблизительное значение для старых зданиях\n",
    "    else:\n",
    "        # Пробуем извлечь конкретное число\n",
    "        try:\n",
    "            return float(re.search(r'\\d+', age_str).group())\n",
    "        except:\n",
    "            return np.nan"
   ]
  },
  {
   "cell_type": "code",
   "execution_count": 44,
   "id": "5b434ab1",
   "metadata": {},
   "outputs": [],
   "source": [
    "# Применяем парсинг к текстовым полям\n",
    "df['room_count'] = df['room_count'].apply(parse_room_count)\n",
    "df['floor_no'] = df['floor_no'].apply(parse_floor)\n",
    "df['building_age_numeric'] = df['building_age'].apply(parse_building_age)"
   ]
  },
  {
   "cell_type": "code",
   "execution_count": 45,
   "id": "8da856cf",
   "metadata": {},
   "outputs": [
    {
     "data": {
      "application/vnd.microsoft.datawrangler.viewer.v0+json": {
       "columns": [
        {
         "name": "index",
         "rawType": "int64",
         "type": "integer"
        },
        {
         "name": "id",
         "rawType": "int64",
         "type": "integer"
        },
        {
         "name": "type",
         "rawType": "object",
         "type": "string"
        },
        {
         "name": "sub_type",
         "rawType": "object",
         "type": "string"
        },
        {
         "name": "start_date",
         "rawType": "object",
         "type": "string"
        },
        {
         "name": "end_date",
         "rawType": "object",
         "type": "unknown"
        },
        {
         "name": "listing_type",
         "rawType": "int64",
         "type": "integer"
        },
        {
         "name": "tom",
         "rawType": "int64",
         "type": "integer"
        },
        {
         "name": "building_age",
         "rawType": "object",
         "type": "string"
        },
        {
         "name": "total_floor_count",
         "rawType": "object",
         "type": "string"
        },
        {
         "name": "floor_no",
         "rawType": "float64",
         "type": "float"
        },
        {
         "name": "room_count",
         "rawType": "float64",
         "type": "float"
        },
        {
         "name": "size",
         "rawType": "float64",
         "type": "float"
        },
        {
         "name": "address",
         "rawType": "object",
         "type": "string"
        },
        {
         "name": "heating_type",
         "rawType": "object",
         "type": "string"
        },
        {
         "name": "price",
         "rawType": "float64",
         "type": "float"
        },
        {
         "name": "price_currency",
         "rawType": "object",
         "type": "string"
        },
        {
         "name": "building_age_numeric",
         "rawType": "float64",
         "type": "float"
        }
       ],
       "ref": "069eaf5b-83a4-4642-acf2-4c7c1f557b3c",
       "rows": [
        [
         "0",
         "1",
         "Konut",
         "Rezidans",
         "12/10/18",
         "1/9/19",
         "2",
         "30",
         "0",
         "20 ve üzeri",
         "2.0",
         "3.0",
         "90.0",
         "İstanbul/Kartal/Kordonboyu",
         "Fancoil",
         "3500.0",
         "TRY",
         "0.0"
        ],
        [
         "1",
         "2",
         "Konut",
         "Daire",
         "2/13/19",
         null,
         "1",
         "14",
         "0",
         "20 ve üzeri",
         "20.0",
         "1.0",
         "43.0",
         "İstanbul/Kartal/Kordonboyu",
         "Fancoil",
         "490000.0",
         "TRY",
         "0.0"
        ],
        [
         "2",
         "3",
         "Konut",
         "Daire",
         "10/9/18",
         "11/8/18",
         "1",
         "30",
         "0",
         "1",
         "1.0",
         "3.0",
         null,
         "Tekirdağ/Çorlu/Reşadiye",
         "Fancoil",
         "155000.0",
         "TRY",
         "0.0"
        ],
        [
         "3",
         "4",
         "Konut",
         "Rezidans",
         "9/10/18",
         "10/10/18",
         "1",
         "30",
         "3",
         "20 ve üzeri",
         "20.0",
         "7.0",
         "450.0",
         "İstanbul/Beşiktaş/Levent",
         "Fancoil",
         "32500000.0",
         "TRY",
         "3.0"
        ],
        [
         "4",
         "5",
         "Konut",
         "Rezidans",
         "12/10/18",
         "1/9/19",
         "1",
         "30",
         "0",
         "20 ve üzeri",
         "2.0",
         "3.0",
         "90.0",
         "İstanbul/Kartal/Kordonboyu",
         "Fancoil",
         "1450000.0",
         "TRY",
         "0.0"
        ]
       ],
       "shape": {
        "columns": 17,
        "rows": 5
       }
      },
      "text/html": [
       "<div>\n",
       "<style scoped>\n",
       "    .dataframe tbody tr th:only-of-type {\n",
       "        vertical-align: middle;\n",
       "    }\n",
       "\n",
       "    .dataframe tbody tr th {\n",
       "        vertical-align: top;\n",
       "    }\n",
       "\n",
       "    .dataframe thead th {\n",
       "        text-align: right;\n",
       "    }\n",
       "</style>\n",
       "<table border=\"1\" class=\"dataframe\">\n",
       "  <thead>\n",
       "    <tr style=\"text-align: right;\">\n",
       "      <th></th>\n",
       "      <th>id</th>\n",
       "      <th>type</th>\n",
       "      <th>sub_type</th>\n",
       "      <th>start_date</th>\n",
       "      <th>end_date</th>\n",
       "      <th>listing_type</th>\n",
       "      <th>tom</th>\n",
       "      <th>building_age</th>\n",
       "      <th>total_floor_count</th>\n",
       "      <th>floor_no</th>\n",
       "      <th>room_count</th>\n",
       "      <th>size</th>\n",
       "      <th>address</th>\n",
       "      <th>heating_type</th>\n",
       "      <th>price</th>\n",
       "      <th>price_currency</th>\n",
       "      <th>building_age_numeric</th>\n",
       "    </tr>\n",
       "  </thead>\n",
       "  <tbody>\n",
       "    <tr>\n",
       "      <th>0</th>\n",
       "      <td>1</td>\n",
       "      <td>Konut</td>\n",
       "      <td>Rezidans</td>\n",
       "      <td>12/10/18</td>\n",
       "      <td>1/9/19</td>\n",
       "      <td>2</td>\n",
       "      <td>30</td>\n",
       "      <td>0</td>\n",
       "      <td>20 ve üzeri</td>\n",
       "      <td>2.0</td>\n",
       "      <td>3.0</td>\n",
       "      <td>90.0</td>\n",
       "      <td>İstanbul/Kartal/Kordonboyu</td>\n",
       "      <td>Fancoil</td>\n",
       "      <td>3500.0</td>\n",
       "      <td>TRY</td>\n",
       "      <td>0.0</td>\n",
       "    </tr>\n",
       "    <tr>\n",
       "      <th>1</th>\n",
       "      <td>2</td>\n",
       "      <td>Konut</td>\n",
       "      <td>Daire</td>\n",
       "      <td>2/13/19</td>\n",
       "      <td>NaN</td>\n",
       "      <td>1</td>\n",
       "      <td>14</td>\n",
       "      <td>0</td>\n",
       "      <td>20 ve üzeri</td>\n",
       "      <td>20.0</td>\n",
       "      <td>1.0</td>\n",
       "      <td>43.0</td>\n",
       "      <td>İstanbul/Kartal/Kordonboyu</td>\n",
       "      <td>Fancoil</td>\n",
       "      <td>490000.0</td>\n",
       "      <td>TRY</td>\n",
       "      <td>0.0</td>\n",
       "    </tr>\n",
       "    <tr>\n",
       "      <th>2</th>\n",
       "      <td>3</td>\n",
       "      <td>Konut</td>\n",
       "      <td>Daire</td>\n",
       "      <td>10/9/18</td>\n",
       "      <td>11/8/18</td>\n",
       "      <td>1</td>\n",
       "      <td>30</td>\n",
       "      <td>0</td>\n",
       "      <td>1</td>\n",
       "      <td>1.0</td>\n",
       "      <td>3.0</td>\n",
       "      <td>NaN</td>\n",
       "      <td>Tekirdağ/Çorlu/Reşadiye</td>\n",
       "      <td>Fancoil</td>\n",
       "      <td>155000.0</td>\n",
       "      <td>TRY</td>\n",
       "      <td>0.0</td>\n",
       "    </tr>\n",
       "    <tr>\n",
       "      <th>3</th>\n",
       "      <td>4</td>\n",
       "      <td>Konut</td>\n",
       "      <td>Rezidans</td>\n",
       "      <td>9/10/18</td>\n",
       "      <td>10/10/18</td>\n",
       "      <td>1</td>\n",
       "      <td>30</td>\n",
       "      <td>3</td>\n",
       "      <td>20 ve üzeri</td>\n",
       "      <td>20.0</td>\n",
       "      <td>7.0</td>\n",
       "      <td>450.0</td>\n",
       "      <td>İstanbul/Beşiktaş/Levent</td>\n",
       "      <td>Fancoil</td>\n",
       "      <td>32500000.0</td>\n",
       "      <td>TRY</td>\n",
       "      <td>3.0</td>\n",
       "    </tr>\n",
       "    <tr>\n",
       "      <th>4</th>\n",
       "      <td>5</td>\n",
       "      <td>Konut</td>\n",
       "      <td>Rezidans</td>\n",
       "      <td>12/10/18</td>\n",
       "      <td>1/9/19</td>\n",
       "      <td>1</td>\n",
       "      <td>30</td>\n",
       "      <td>0</td>\n",
       "      <td>20 ve üzeri</td>\n",
       "      <td>2.0</td>\n",
       "      <td>3.0</td>\n",
       "      <td>90.0</td>\n",
       "      <td>İstanbul/Kartal/Kordonboyu</td>\n",
       "      <td>Fancoil</td>\n",
       "      <td>1450000.0</td>\n",
       "      <td>TRY</td>\n",
       "      <td>0.0</td>\n",
       "    </tr>\n",
       "  </tbody>\n",
       "</table>\n",
       "</div>"
      ],
      "text/plain": [
       "   id   type  sub_type start_date  end_date  listing_type  tom building_age  \\\n",
       "0   1  Konut  Rezidans   12/10/18    1/9/19             2   30            0   \n",
       "1   2  Konut     Daire    2/13/19       NaN             1   14            0   \n",
       "2   3  Konut     Daire    10/9/18   11/8/18             1   30            0   \n",
       "3   4  Konut  Rezidans    9/10/18  10/10/18             1   30            3   \n",
       "4   5  Konut  Rezidans   12/10/18    1/9/19             1   30            0   \n",
       "\n",
       "  total_floor_count  floor_no  room_count   size                     address  \\\n",
       "0       20 ve üzeri       2.0         3.0   90.0  İstanbul/Kartal/Kordonboyu   \n",
       "1       20 ve üzeri      20.0         1.0   43.0  İstanbul/Kartal/Kordonboyu   \n",
       "2                 1       1.0         3.0    NaN     Tekirdağ/Çorlu/Reşadiye   \n",
       "3       20 ve üzeri      20.0         7.0  450.0    İstanbul/Beşiktaş/Levent   \n",
       "4       20 ve üzeri       2.0         3.0   90.0  İstanbul/Kartal/Kordonboyu   \n",
       "\n",
       "  heating_type       price price_currency  building_age_numeric  \n",
       "0      Fancoil      3500.0            TRY                   0.0  \n",
       "1      Fancoil    490000.0            TRY                   0.0  \n",
       "2      Fancoil    155000.0            TRY                   0.0  \n",
       "3      Fancoil  32500000.0            TRY                   3.0  \n",
       "4      Fancoil   1450000.0            TRY                   0.0  "
      ]
     },
     "execution_count": 45,
     "metadata": {},
     "output_type": "execute_result"
    }
   ],
   "source": [
    "df.head()"
   ]
  },
  {
   "cell_type": "code",
   "execution_count": 46,
   "id": "6ec4abe8",
   "metadata": {},
   "outputs": [
    {
     "name": "stderr",
     "output_type": "stream",
     "text": [
      "C:\\Users\\Program\\AppData\\Local\\Temp\\ipykernel_12936\\1207355733.py:6: FutureWarning: A value is trying to be set on a copy of a DataFrame or Series through chained assignment using an inplace method.\n",
      "The behavior will change in pandas 3.0. This inplace method will never work because the intermediate object on which we are setting values always behaves as a copy.\n",
      "\n",
      "For example, when doing 'df[col].method(value, inplace=True)', try using 'df.method({col: value}, inplace=True)' or df[col] = df[col].method(value) instead, to perform the operation inplace on the original object.\n",
      "\n",
      "\n",
      "  df[col].fillna(df[col].median(), inplace=True)\n",
      "C:\\Users\\Program\\AppData\\Local\\Temp\\ipykernel_12936\\1207355733.py:6: FutureWarning: A value is trying to be set on a copy of a DataFrame or Series through chained assignment using an inplace method.\n",
      "The behavior will change in pandas 3.0. This inplace method will never work because the intermediate object on which we are setting values always behaves as a copy.\n",
      "\n",
      "For example, when doing 'df[col].method(value, inplace=True)', try using 'df.method({col: value}, inplace=True)' or df[col] = df[col].method(value) instead, to perform the operation inplace on the original object.\n",
      "\n",
      "\n",
      "  df[col].fillna(df[col].median(), inplace=True)\n",
      "C:\\Users\\Program\\AppData\\Local\\Temp\\ipykernel_12936\\1207355733.py:6: FutureWarning: A value is trying to be set on a copy of a DataFrame or Series through chained assignment using an inplace method.\n",
      "The behavior will change in pandas 3.0. This inplace method will never work because the intermediate object on which we are setting values always behaves as a copy.\n",
      "\n",
      "For example, when doing 'df[col].method(value, inplace=True)', try using 'df.method({col: value}, inplace=True)' or df[col] = df[col].method(value) instead, to perform the operation inplace on the original object.\n",
      "\n",
      "\n",
      "  df[col].fillna(df[col].median(), inplace=True)\n",
      "C:\\Users\\Program\\AppData\\Local\\Temp\\ipykernel_12936\\1207355733.py:6: FutureWarning: A value is trying to be set on a copy of a DataFrame or Series through chained assignment using an inplace method.\n",
      "The behavior will change in pandas 3.0. This inplace method will never work because the intermediate object on which we are setting values always behaves as a copy.\n",
      "\n",
      "For example, when doing 'df[col].method(value, inplace=True)', try using 'df.method({col: value}, inplace=True)' or df[col] = df[col].method(value) instead, to perform the operation inplace on the original object.\n",
      "\n",
      "\n",
      "  df[col].fillna(df[col].median(), inplace=True)\n",
      "C:\\Users\\Program\\AppData\\Local\\Temp\\ipykernel_12936\\1207355733.py:6: FutureWarning: A value is trying to be set on a copy of a DataFrame or Series through chained assignment using an inplace method.\n",
      "The behavior will change in pandas 3.0. This inplace method will never work because the intermediate object on which we are setting values always behaves as a copy.\n",
      "\n",
      "For example, when doing 'df[col].method(value, inplace=True)', try using 'df.method({col: value}, inplace=True)' or df[col] = df[col].method(value) instead, to perform the operation inplace on the original object.\n",
      "\n",
      "\n",
      "  df[col].fillna(df[col].median(), inplace=True)\n",
      "C:\\Users\\Program\\AppData\\Local\\Temp\\ipykernel_12936\\1207355733.py:12: FutureWarning: A value is trying to be set on a copy of a DataFrame or Series through chained assignment using an inplace method.\n",
      "The behavior will change in pandas 3.0. This inplace method will never work because the intermediate object on which we are setting values always behaves as a copy.\n",
      "\n",
      "For example, when doing 'df[col].method(value, inplace=True)', try using 'df.method({col: value}, inplace=True)' or df[col] = df[col].method(value) instead, to perform the operation inplace on the original object.\n",
      "\n",
      "\n",
      "  df[col].fillna('Unknown', inplace=True)\n",
      "C:\\Users\\Program\\AppData\\Local\\Temp\\ipykernel_12936\\1207355733.py:15: FutureWarning: A value is trying to be set on a copy of a DataFrame or Series through chained assignment using an inplace method.\n",
      "The behavior will change in pandas 3.0. This inplace method will never work because the intermediate object on which we are setting values always behaves as a copy.\n",
      "\n",
      "For example, when doing 'df[col].method(value, inplace=True)', try using 'df.method({col: value}, inplace=True)' or df[col] = df[col].method(value) instead, to perform the operation inplace on the original object.\n",
      "\n",
      "\n",
      "  df['end_date'].fillna('Active', inplace=True)  # Активные объявления\n"
     ]
    }
   ],
   "source": [
    "# Обработка пропущенных значений\n",
    "# Для числовых признаков\n",
    "numeric_cols = ['size', 'price', 'room_count', 'floor_no', 'building_age_numeric']\n",
    "for col in numeric_cols:\n",
    "    if col in df.columns:\n",
    "        df[col].fillna(df[col].median(), inplace=True)\n",
    "\n",
    "# Для категориальных признаков\n",
    "categorical_cols = ['heating_type', 'price_currency', 'building_age']\n",
    "for col in categorical_cols:\n",
    "    if col in df.columns:\n",
    "        df[col].fillna('Unknown', inplace=True)\n",
    "\n",
    "# Для дат\n",
    "df['end_date'].fillna('Active', inplace=True)  # Активные объявления"
   ]
  },
  {
   "cell_type": "code",
   "execution_count": 47,
   "id": "a51aa087",
   "metadata": {},
   "outputs": [
    {
     "name": "stderr",
     "output_type": "stream",
     "text": [
      "C:\\Users\\Program\\AppData\\Local\\Temp\\ipykernel_12936\\4076828695.py:3: UserWarning: Could not infer format, so each element will be parsed individually, falling back to `dateutil`. To ensure parsing is consistent and as-expected, please specify a format.\n",
      "  df['start_date'] = pd.to_datetime(df['start_date'], errors='coerce')\n",
      "C:\\Users\\Program\\AppData\\Local\\Temp\\ipykernel_12936\\4076828695.py:4: UserWarning: Could not infer format, so each element will be parsed individually, falling back to `dateutil`. To ensure parsing is consistent and as-expected, please specify a format.\n",
      "  df['end_date'] = pd.to_datetime(df['end_date'], errors='coerce')\n"
     ]
    }
   ],
   "source": [
    "# Преобразование типов данных\n",
    "# Дата-время\n",
    "df['start_date'] = pd.to_datetime(df['start_date'], errors='coerce')\n",
    "df['end_date'] = pd.to_datetime(df['end_date'], errors='coerce')\n",
    "\n",
    "# Категориальные переменные с учетом турецких значений\n",
    "categorical_mappings = {\n",
    "    'type': {'Konut': 'Housing'},\n",
    "    'sub_type': {'Daire': 'Flat'},\n",
    "    'listing_type': {1: 'Sale', 2: 'Rent'},  # Предполагая кодировку\n",
    "    'price_currency': {'TL': 'TRY', 'USD': 'USD', 'EUR': 'EUR'}\n",
    "}\n",
    "\n",
    "for col, mapping in categorical_mappings.items():\n",
    "    if col in df.columns:\n",
    "        df[col] = df[col].replace(mapping)\n",
    "        df[col] = df[col].astype('category')"
   ]
  },
  {
   "cell_type": "code",
   "execution_count": 48,
   "id": "f0171ad9",
   "metadata": {},
   "outputs": [
    {
     "data": {
      "application/vnd.microsoft.datawrangler.viewer.v0+json": {
       "columns": [
        {
         "name": "index",
         "rawType": "int64",
         "type": "integer"
        },
        {
         "name": "id",
         "rawType": "int64",
         "type": "integer"
        },
        {
         "name": "type",
         "rawType": "category",
         "type": "unknown"
        },
        {
         "name": "sub_type",
         "rawType": "category",
         "type": "unknown"
        },
        {
         "name": "start_date",
         "rawType": "datetime64[ns]",
         "type": "datetime"
        },
        {
         "name": "end_date",
         "rawType": "datetime64[ns]",
         "type": "datetime"
        },
        {
         "name": "listing_type",
         "rawType": "category",
         "type": "unknown"
        },
        {
         "name": "tom",
         "rawType": "int64",
         "type": "integer"
        },
        {
         "name": "building_age",
         "rawType": "object",
         "type": "string"
        },
        {
         "name": "total_floor_count",
         "rawType": "object",
         "type": "string"
        },
        {
         "name": "floor_no",
         "rawType": "float64",
         "type": "float"
        },
        {
         "name": "room_count",
         "rawType": "float64",
         "type": "float"
        },
        {
         "name": "size",
         "rawType": "float64",
         "type": "float"
        },
        {
         "name": "address",
         "rawType": "object",
         "type": "string"
        },
        {
         "name": "heating_type",
         "rawType": "object",
         "type": "string"
        },
        {
         "name": "price",
         "rawType": "float64",
         "type": "float"
        },
        {
         "name": "price_currency",
         "rawType": "category",
         "type": "unknown"
        },
        {
         "name": "building_age_numeric",
         "rawType": "float64",
         "type": "float"
        }
       ],
       "ref": "3a03c790-7dcc-41d1-8db9-2281c881578f",
       "rows": [
        [
         "0",
         "1",
         "Housing",
         "Rezidans",
         "2018-12-10 00:00:00",
         "2019-01-09 00:00:00",
         "Rent",
         "30",
         "0",
         "20 ve üzeri",
         "2.0",
         "3.0",
         "90.0",
         "İstanbul/Kartal/Kordonboyu",
         "Fancoil",
         "3500.0",
         "TRY",
         "0.0"
        ],
        [
         "1",
         "2",
         "Housing",
         "Flat",
         "2019-02-13 00:00:00",
         null,
         "Sale",
         "14",
         "0",
         "20 ve üzeri",
         "20.0",
         "1.0",
         "43.0",
         "İstanbul/Kartal/Kordonboyu",
         "Fancoil",
         "490000.0",
         "TRY",
         "0.0"
        ],
        [
         "2",
         "3",
         "Housing",
         "Flat",
         "2018-10-09 00:00:00",
         "2018-11-08 00:00:00",
         "Sale",
         "30",
         "0",
         "1",
         "1.0",
         "3.0",
         "110.0",
         "Tekirdağ/Çorlu/Reşadiye",
         "Fancoil",
         "155000.0",
         "TRY",
         "0.0"
        ],
        [
         "3",
         "4",
         "Housing",
         "Rezidans",
         "2018-09-10 00:00:00",
         "2018-10-10 00:00:00",
         "Sale",
         "30",
         "3",
         "20 ve üzeri",
         "20.0",
         "7.0",
         "450.0",
         "İstanbul/Beşiktaş/Levent",
         "Fancoil",
         "32500000.0",
         "TRY",
         "3.0"
        ],
        [
         "4",
         "5",
         "Housing",
         "Rezidans",
         "2018-12-10 00:00:00",
         "2019-01-09 00:00:00",
         "Sale",
         "30",
         "0",
         "20 ve üzeri",
         "2.0",
         "3.0",
         "90.0",
         "İstanbul/Kartal/Kordonboyu",
         "Fancoil",
         "1450000.0",
         "TRY",
         "0.0"
        ]
       ],
       "shape": {
        "columns": 17,
        "rows": 5
       }
      },
      "text/html": [
       "<div>\n",
       "<style scoped>\n",
       "    .dataframe tbody tr th:only-of-type {\n",
       "        vertical-align: middle;\n",
       "    }\n",
       "\n",
       "    .dataframe tbody tr th {\n",
       "        vertical-align: top;\n",
       "    }\n",
       "\n",
       "    .dataframe thead th {\n",
       "        text-align: right;\n",
       "    }\n",
       "</style>\n",
       "<table border=\"1\" class=\"dataframe\">\n",
       "  <thead>\n",
       "    <tr style=\"text-align: right;\">\n",
       "      <th></th>\n",
       "      <th>id</th>\n",
       "      <th>type</th>\n",
       "      <th>sub_type</th>\n",
       "      <th>start_date</th>\n",
       "      <th>end_date</th>\n",
       "      <th>listing_type</th>\n",
       "      <th>tom</th>\n",
       "      <th>building_age</th>\n",
       "      <th>total_floor_count</th>\n",
       "      <th>floor_no</th>\n",
       "      <th>room_count</th>\n",
       "      <th>size</th>\n",
       "      <th>address</th>\n",
       "      <th>heating_type</th>\n",
       "      <th>price</th>\n",
       "      <th>price_currency</th>\n",
       "      <th>building_age_numeric</th>\n",
       "    </tr>\n",
       "  </thead>\n",
       "  <tbody>\n",
       "    <tr>\n",
       "      <th>0</th>\n",
       "      <td>1</td>\n",
       "      <td>Housing</td>\n",
       "      <td>Rezidans</td>\n",
       "      <td>2018-12-10</td>\n",
       "      <td>2019-01-09</td>\n",
       "      <td>Rent</td>\n",
       "      <td>30</td>\n",
       "      <td>0</td>\n",
       "      <td>20 ve üzeri</td>\n",
       "      <td>2.0</td>\n",
       "      <td>3.0</td>\n",
       "      <td>90.0</td>\n",
       "      <td>İstanbul/Kartal/Kordonboyu</td>\n",
       "      <td>Fancoil</td>\n",
       "      <td>3500.0</td>\n",
       "      <td>TRY</td>\n",
       "      <td>0.0</td>\n",
       "    </tr>\n",
       "    <tr>\n",
       "      <th>1</th>\n",
       "      <td>2</td>\n",
       "      <td>Housing</td>\n",
       "      <td>Flat</td>\n",
       "      <td>2019-02-13</td>\n",
       "      <td>NaT</td>\n",
       "      <td>Sale</td>\n",
       "      <td>14</td>\n",
       "      <td>0</td>\n",
       "      <td>20 ve üzeri</td>\n",
       "      <td>20.0</td>\n",
       "      <td>1.0</td>\n",
       "      <td>43.0</td>\n",
       "      <td>İstanbul/Kartal/Kordonboyu</td>\n",
       "      <td>Fancoil</td>\n",
       "      <td>490000.0</td>\n",
       "      <td>TRY</td>\n",
       "      <td>0.0</td>\n",
       "    </tr>\n",
       "    <tr>\n",
       "      <th>2</th>\n",
       "      <td>3</td>\n",
       "      <td>Housing</td>\n",
       "      <td>Flat</td>\n",
       "      <td>2018-10-09</td>\n",
       "      <td>2018-11-08</td>\n",
       "      <td>Sale</td>\n",
       "      <td>30</td>\n",
       "      <td>0</td>\n",
       "      <td>1</td>\n",
       "      <td>1.0</td>\n",
       "      <td>3.0</td>\n",
       "      <td>110.0</td>\n",
       "      <td>Tekirdağ/Çorlu/Reşadiye</td>\n",
       "      <td>Fancoil</td>\n",
       "      <td>155000.0</td>\n",
       "      <td>TRY</td>\n",
       "      <td>0.0</td>\n",
       "    </tr>\n",
       "    <tr>\n",
       "      <th>3</th>\n",
       "      <td>4</td>\n",
       "      <td>Housing</td>\n",
       "      <td>Rezidans</td>\n",
       "      <td>2018-09-10</td>\n",
       "      <td>2018-10-10</td>\n",
       "      <td>Sale</td>\n",
       "      <td>30</td>\n",
       "      <td>3</td>\n",
       "      <td>20 ve üzeri</td>\n",
       "      <td>20.0</td>\n",
       "      <td>7.0</td>\n",
       "      <td>450.0</td>\n",
       "      <td>İstanbul/Beşiktaş/Levent</td>\n",
       "      <td>Fancoil</td>\n",
       "      <td>32500000.0</td>\n",
       "      <td>TRY</td>\n",
       "      <td>3.0</td>\n",
       "    </tr>\n",
       "    <tr>\n",
       "      <th>4</th>\n",
       "      <td>5</td>\n",
       "      <td>Housing</td>\n",
       "      <td>Rezidans</td>\n",
       "      <td>2018-12-10</td>\n",
       "      <td>2019-01-09</td>\n",
       "      <td>Sale</td>\n",
       "      <td>30</td>\n",
       "      <td>0</td>\n",
       "      <td>20 ve üzeri</td>\n",
       "      <td>2.0</td>\n",
       "      <td>3.0</td>\n",
       "      <td>90.0</td>\n",
       "      <td>İstanbul/Kartal/Kordonboyu</td>\n",
       "      <td>Fancoil</td>\n",
       "      <td>1450000.0</td>\n",
       "      <td>TRY</td>\n",
       "      <td>0.0</td>\n",
       "    </tr>\n",
       "  </tbody>\n",
       "</table>\n",
       "</div>"
      ],
      "text/plain": [
       "   id     type  sub_type start_date   end_date listing_type  tom building_age  \\\n",
       "0   1  Housing  Rezidans 2018-12-10 2019-01-09         Rent   30            0   \n",
       "1   2  Housing      Flat 2019-02-13        NaT         Sale   14            0   \n",
       "2   3  Housing      Flat 2018-10-09 2018-11-08         Sale   30            0   \n",
       "3   4  Housing  Rezidans 2018-09-10 2018-10-10         Sale   30            3   \n",
       "4   5  Housing  Rezidans 2018-12-10 2019-01-09         Sale   30            0   \n",
       "\n",
       "  total_floor_count  floor_no  room_count   size                     address  \\\n",
       "0       20 ve üzeri       2.0         3.0   90.0  İstanbul/Kartal/Kordonboyu   \n",
       "1       20 ve üzeri      20.0         1.0   43.0  İstanbul/Kartal/Kordonboyu   \n",
       "2                 1       1.0         3.0  110.0     Tekirdağ/Çorlu/Reşadiye   \n",
       "3       20 ve üzeri      20.0         7.0  450.0    İstanbul/Beşiktaş/Levent   \n",
       "4       20 ve üzeri       2.0         3.0   90.0  İstanbul/Kartal/Kordonboyu   \n",
       "\n",
       "  heating_type       price price_currency  building_age_numeric  \n",
       "0      Fancoil      3500.0            TRY                   0.0  \n",
       "1      Fancoil    490000.0            TRY                   0.0  \n",
       "2      Fancoil    155000.0            TRY                   0.0  \n",
       "3      Fancoil  32500000.0            TRY                   3.0  \n",
       "4      Fancoil   1450000.0            TRY                   0.0  "
      ]
     },
     "execution_count": 48,
     "metadata": {},
     "output_type": "execute_result"
    }
   ],
   "source": [
    "df.head()"
   ]
  },
  {
   "cell_type": "code",
   "execution_count": 49,
   "id": "e0824018",
   "metadata": {},
   "outputs": [
    {
     "name": "stderr",
     "output_type": "stream",
     "text": [
      "C:\\Users\\Program\\AppData\\Local\\Temp\\ipykernel_12936\\2047961751.py:6: FutureWarning: A value is trying to be set on a copy of a DataFrame or Series through chained assignment using an inplace method.\n",
      "The behavior will change in pandas 3.0. This inplace method will never work because the intermediate object on which we are setting values always behaves as a copy.\n",
      "\n",
      "For example, when doing 'df[col].method(value, inplace=True)', try using 'df.method({col: value}, inplace=True)' or df[col] = df[col].method(value) instead, to perform the operation inplace on the original object.\n",
      "\n",
      "\n",
      "  df['days_on_market'].fillna(df['days_on_market'].median(), inplace=True)\n"
     ]
    }
   ],
   "source": [
    "# Создание новых признаков\n",
    "# Время на рынке в днях \n",
    "if 'start_date' in df.columns:\n",
    "    current_date = pd.Timestamp.now()\n",
    "    df['days_on_market'] = (current_date - df['start_date']).dt.days\n",
    "    df['days_on_market'].fillna(df['days_on_market'].median(), inplace=True)\n",
    "\n",
    "# Цена за квадратный метр\n",
    "if all(col in df.columns for col in ['price', 'size']):\n",
    "    df['price_per_sqm'] = df['price'] / df['size']\n",
    "    # Убираем некорректные значения\n",
    "    df = df[(df['price_per_sqm'] > 0) & (df['price_per_sqm'] != np.inf)]\n"
   ]
  },
  {
   "cell_type": "markdown",
   "id": "8158630f",
   "metadata": {},
   "source": [
    "###### В ходе предобработки данных были созданы новые признаки:\n",
    "\n",
    "###### - **days_on_market** — количество дней, сколько объект находится на рынке. Этот признак помогает анализировать ликвидность недвижимости и выявлять объекты, которые долго не продаются или не сдаются.\n",
    "###### - **price_per_sqm** — цена за квадратный метр. Позволяет сравнивать объекты между собой независимо от их общей площади, выявлять переоценённые и недооценённые предложения.\n",
    "###### - **building_age_numeric** — числовое представление возраста здания, полученное из текстового описания. Упрощает анализ зависимости цены от возраста недвижимости.\n",
    "###### - **room_count** — общее количество комнат, преобразованное из формата \"2+1\" в число. Стандартизирует данные для моделирования и сравнения объектов.\n",
    "###### - **total_floor_count, floor_no** — числовые признаки, отражающие этажность здания и номер этажа, что важно для оценки привлекательности и стоимости объекта.\n",
    "\n",
    "###### Эти признаки позволяют более точно анализировать рынок недвижимости, строить модели прогнозирования цены и выявлять закономерности в данных."
   ]
  },
  {
   "cell_type": "code",
   "execution_count": 50,
   "id": "39ddeec0",
   "metadata": {},
   "outputs": [],
   "source": [
    "# Удаляем выбросы в столбце \"price\", учитывая тип недвижимости.\n",
    "def remove_price_outliers(df):\n",
    "    \"\"\"Удаление выбросов в цене с учетом типа недвижимости\"\"\"\n",
    "    if 'price' not in df.columns or 'sub_type' not in df.columns:\n",
    "        return df\n",
    "    \n",
    "    # Убираем явно ошибочные значения\n",
    "    df = df[df['price'] > 100]  # Минимальная цена\n",
    "\n",
    "        # Убираем крайние выбросы по квартирному типу\n",
    "    if 'Flat' in df['sub_type'].values:\n",
    "        flat_mask = df['sub_type'] == 'Flat'\n",
    "        df_flat = df[flat_mask]\n",
    "        if len(df_flat) > 0:\n",
    "            Q1 = df_flat['price'].quantile(0.01)\n",
    "            Q3 = df_flat['price'].quantile(0.99)\n",
    "            df = df[~flat_mask | ((df['price'] >= Q1) & (df['price'] <= Q3))]\n",
    "    \n",
    "    return df"
   ]
  },
  {
   "cell_type": "code",
   "execution_count": 51,
   "id": "42e680fd",
   "metadata": {},
   "outputs": [],
   "source": [
    "df = remove_price_outliers(df)"
   ]
  },
  {
   "cell_type": "code",
   "execution_count": 52,
   "id": "a01357eb",
   "metadata": {},
   "outputs": [
    {
     "data": {
      "application/vnd.microsoft.datawrangler.viewer.v0+json": {
       "columns": [
        {
         "name": "index",
         "rawType": "int64",
         "type": "integer"
        },
        {
         "name": "id",
         "rawType": "int64",
         "type": "integer"
        },
        {
         "name": "type",
         "rawType": "category",
         "type": "unknown"
        },
        {
         "name": "sub_type",
         "rawType": "category",
         "type": "unknown"
        },
        {
         "name": "start_date",
         "rawType": "datetime64[ns]",
         "type": "datetime"
        },
        {
         "name": "end_date",
         "rawType": "datetime64[ns]",
         "type": "datetime"
        },
        {
         "name": "listing_type",
         "rawType": "category",
         "type": "unknown"
        },
        {
         "name": "tom",
         "rawType": "int64",
         "type": "integer"
        },
        {
         "name": "building_age",
         "rawType": "object",
         "type": "string"
        },
        {
         "name": "total_floor_count",
         "rawType": "object",
         "type": "string"
        },
        {
         "name": "floor_no",
         "rawType": "float64",
         "type": "float"
        },
        {
         "name": "room_count",
         "rawType": "float64",
         "type": "float"
        },
        {
         "name": "size",
         "rawType": "float64",
         "type": "float"
        },
        {
         "name": "address",
         "rawType": "object",
         "type": "string"
        },
        {
         "name": "heating_type",
         "rawType": "object",
         "type": "string"
        },
        {
         "name": "price",
         "rawType": "float64",
         "type": "float"
        },
        {
         "name": "price_currency",
         "rawType": "category",
         "type": "unknown"
        },
        {
         "name": "building_age_numeric",
         "rawType": "float64",
         "type": "float"
        },
        {
         "name": "days_on_market",
         "rawType": "int64",
         "type": "integer"
        },
        {
         "name": "price_per_sqm",
         "rawType": "float64",
         "type": "float"
        }
       ],
       "ref": "e6a41623-27d4-47a4-8346-3c6343cf2fb7",
       "rows": [
        [
         "0",
         "1",
         "Housing",
         "Rezidans",
         "2018-12-10 00:00:00",
         "2019-01-09 00:00:00",
         "Rent",
         "30",
         "0",
         "20 ve üzeri",
         "2.0",
         "3.0",
         "90.0",
         "İstanbul/Kartal/Kordonboyu",
         "Fancoil",
         "3500.0",
         "TRY",
         "0.0",
         "2458",
         "38.888888888888886"
        ],
        [
         "1",
         "2",
         "Housing",
         "Flat",
         "2019-02-13 00:00:00",
         null,
         "Sale",
         "14",
         "0",
         "20 ve üzeri",
         "20.0",
         "1.0",
         "43.0",
         "İstanbul/Kartal/Kordonboyu",
         "Fancoil",
         "490000.0",
         "TRY",
         "0.0",
         "2393",
         "11395.348837209302"
        ],
        [
         "2",
         "3",
         "Housing",
         "Flat",
         "2018-10-09 00:00:00",
         "2018-11-08 00:00:00",
         "Sale",
         "30",
         "0",
         "1",
         "1.0",
         "3.0",
         "110.0",
         "Tekirdağ/Çorlu/Reşadiye",
         "Fancoil",
         "155000.0",
         "TRY",
         "0.0",
         "2520",
         "1409.090909090909"
        ],
        [
         "3",
         "4",
         "Housing",
         "Rezidans",
         "2018-09-10 00:00:00",
         "2018-10-10 00:00:00",
         "Sale",
         "30",
         "3",
         "20 ve üzeri",
         "20.0",
         "7.0",
         "450.0",
         "İstanbul/Beşiktaş/Levent",
         "Fancoil",
         "32500000.0",
         "TRY",
         "3.0",
         "2549",
         "72222.22222222222"
        ],
        [
         "4",
         "5",
         "Housing",
         "Rezidans",
         "2018-12-10 00:00:00",
         "2019-01-09 00:00:00",
         "Sale",
         "30",
         "0",
         "20 ve üzeri",
         "2.0",
         "3.0",
         "90.0",
         "İstanbul/Kartal/Kordonboyu",
         "Fancoil",
         "1450000.0",
         "TRY",
         "0.0",
         "2458",
         "16111.111111111111"
        ]
       ],
       "shape": {
        "columns": 19,
        "rows": 5
       }
      },
      "text/html": [
       "<div>\n",
       "<style scoped>\n",
       "    .dataframe tbody tr th:only-of-type {\n",
       "        vertical-align: middle;\n",
       "    }\n",
       "\n",
       "    .dataframe tbody tr th {\n",
       "        vertical-align: top;\n",
       "    }\n",
       "\n",
       "    .dataframe thead th {\n",
       "        text-align: right;\n",
       "    }\n",
       "</style>\n",
       "<table border=\"1\" class=\"dataframe\">\n",
       "  <thead>\n",
       "    <tr style=\"text-align: right;\">\n",
       "      <th></th>\n",
       "      <th>id</th>\n",
       "      <th>type</th>\n",
       "      <th>sub_type</th>\n",
       "      <th>start_date</th>\n",
       "      <th>end_date</th>\n",
       "      <th>listing_type</th>\n",
       "      <th>tom</th>\n",
       "      <th>building_age</th>\n",
       "      <th>total_floor_count</th>\n",
       "      <th>floor_no</th>\n",
       "      <th>room_count</th>\n",
       "      <th>size</th>\n",
       "      <th>address</th>\n",
       "      <th>heating_type</th>\n",
       "      <th>price</th>\n",
       "      <th>price_currency</th>\n",
       "      <th>building_age_numeric</th>\n",
       "      <th>days_on_market</th>\n",
       "      <th>price_per_sqm</th>\n",
       "    </tr>\n",
       "  </thead>\n",
       "  <tbody>\n",
       "    <tr>\n",
       "      <th>0</th>\n",
       "      <td>1</td>\n",
       "      <td>Housing</td>\n",
       "      <td>Rezidans</td>\n",
       "      <td>2018-12-10</td>\n",
       "      <td>2019-01-09</td>\n",
       "      <td>Rent</td>\n",
       "      <td>30</td>\n",
       "      <td>0</td>\n",
       "      <td>20 ve üzeri</td>\n",
       "      <td>2.0</td>\n",
       "      <td>3.0</td>\n",
       "      <td>90.0</td>\n",
       "      <td>İstanbul/Kartal/Kordonboyu</td>\n",
       "      <td>Fancoil</td>\n",
       "      <td>3500.0</td>\n",
       "      <td>TRY</td>\n",
       "      <td>0.0</td>\n",
       "      <td>2458</td>\n",
       "      <td>38.888889</td>\n",
       "    </tr>\n",
       "    <tr>\n",
       "      <th>1</th>\n",
       "      <td>2</td>\n",
       "      <td>Housing</td>\n",
       "      <td>Flat</td>\n",
       "      <td>2019-02-13</td>\n",
       "      <td>NaT</td>\n",
       "      <td>Sale</td>\n",
       "      <td>14</td>\n",
       "      <td>0</td>\n",
       "      <td>20 ve üzeri</td>\n",
       "      <td>20.0</td>\n",
       "      <td>1.0</td>\n",
       "      <td>43.0</td>\n",
       "      <td>İstanbul/Kartal/Kordonboyu</td>\n",
       "      <td>Fancoil</td>\n",
       "      <td>490000.0</td>\n",
       "      <td>TRY</td>\n",
       "      <td>0.0</td>\n",
       "      <td>2393</td>\n",
       "      <td>11395.348837</td>\n",
       "    </tr>\n",
       "    <tr>\n",
       "      <th>2</th>\n",
       "      <td>3</td>\n",
       "      <td>Housing</td>\n",
       "      <td>Flat</td>\n",
       "      <td>2018-10-09</td>\n",
       "      <td>2018-11-08</td>\n",
       "      <td>Sale</td>\n",
       "      <td>30</td>\n",
       "      <td>0</td>\n",
       "      <td>1</td>\n",
       "      <td>1.0</td>\n",
       "      <td>3.0</td>\n",
       "      <td>110.0</td>\n",
       "      <td>Tekirdağ/Çorlu/Reşadiye</td>\n",
       "      <td>Fancoil</td>\n",
       "      <td>155000.0</td>\n",
       "      <td>TRY</td>\n",
       "      <td>0.0</td>\n",
       "      <td>2520</td>\n",
       "      <td>1409.090909</td>\n",
       "    </tr>\n",
       "    <tr>\n",
       "      <th>3</th>\n",
       "      <td>4</td>\n",
       "      <td>Housing</td>\n",
       "      <td>Rezidans</td>\n",
       "      <td>2018-09-10</td>\n",
       "      <td>2018-10-10</td>\n",
       "      <td>Sale</td>\n",
       "      <td>30</td>\n",
       "      <td>3</td>\n",
       "      <td>20 ve üzeri</td>\n",
       "      <td>20.0</td>\n",
       "      <td>7.0</td>\n",
       "      <td>450.0</td>\n",
       "      <td>İstanbul/Beşiktaş/Levent</td>\n",
       "      <td>Fancoil</td>\n",
       "      <td>32500000.0</td>\n",
       "      <td>TRY</td>\n",
       "      <td>3.0</td>\n",
       "      <td>2549</td>\n",
       "      <td>72222.222222</td>\n",
       "    </tr>\n",
       "    <tr>\n",
       "      <th>4</th>\n",
       "      <td>5</td>\n",
       "      <td>Housing</td>\n",
       "      <td>Rezidans</td>\n",
       "      <td>2018-12-10</td>\n",
       "      <td>2019-01-09</td>\n",
       "      <td>Sale</td>\n",
       "      <td>30</td>\n",
       "      <td>0</td>\n",
       "      <td>20 ve üzeri</td>\n",
       "      <td>2.0</td>\n",
       "      <td>3.0</td>\n",
       "      <td>90.0</td>\n",
       "      <td>İstanbul/Kartal/Kordonboyu</td>\n",
       "      <td>Fancoil</td>\n",
       "      <td>1450000.0</td>\n",
       "      <td>TRY</td>\n",
       "      <td>0.0</td>\n",
       "      <td>2458</td>\n",
       "      <td>16111.111111</td>\n",
       "    </tr>\n",
       "  </tbody>\n",
       "</table>\n",
       "</div>"
      ],
      "text/plain": [
       "   id     type  sub_type start_date   end_date listing_type  tom building_age  \\\n",
       "0   1  Housing  Rezidans 2018-12-10 2019-01-09         Rent   30            0   \n",
       "1   2  Housing      Flat 2019-02-13        NaT         Sale   14            0   \n",
       "2   3  Housing      Flat 2018-10-09 2018-11-08         Sale   30            0   \n",
       "3   4  Housing  Rezidans 2018-09-10 2018-10-10         Sale   30            3   \n",
       "4   5  Housing  Rezidans 2018-12-10 2019-01-09         Sale   30            0   \n",
       "\n",
       "  total_floor_count  floor_no  room_count   size                     address  \\\n",
       "0       20 ve üzeri       2.0         3.0   90.0  İstanbul/Kartal/Kordonboyu   \n",
       "1       20 ve üzeri      20.0         1.0   43.0  İstanbul/Kartal/Kordonboyu   \n",
       "2                 1       1.0         3.0  110.0     Tekirdağ/Çorlu/Reşadiye   \n",
       "3       20 ve üzeri      20.0         7.0  450.0    İstanbul/Beşiktaş/Levent   \n",
       "4       20 ve üzeri       2.0         3.0   90.0  İstanbul/Kartal/Kordonboyu   \n",
       "\n",
       "  heating_type       price price_currency  building_age_numeric  \\\n",
       "0      Fancoil      3500.0            TRY                   0.0   \n",
       "1      Fancoil    490000.0            TRY                   0.0   \n",
       "2      Fancoil    155000.0            TRY                   0.0   \n",
       "3      Fancoil  32500000.0            TRY                   3.0   \n",
       "4      Fancoil   1450000.0            TRY                   0.0   \n",
       "\n",
       "   days_on_market  price_per_sqm  \n",
       "0            2458      38.888889  \n",
       "1            2393   11395.348837  \n",
       "2            2520    1409.090909  \n",
       "3            2549   72222.222222  \n",
       "4            2458   16111.111111  "
      ]
     },
     "execution_count": 52,
     "metadata": {},
     "output_type": "execute_result"
    }
   ],
   "source": [
    "df.head()"
   ]
  },
  {
   "cell_type": "code",
   "execution_count": 53,
   "id": "70f298a0",
   "metadata": {},
   "outputs": [
    {
     "data": {
      "text/plain": [
       "['Rezidans', 'Flat', 'Villa', 'Müstakil Ev', 'Kooperatif', ..., 'Prefabrik Ev', 'Köşk / Konak / Yalı', 'Çiftlik Evi', 'Yalı Dairesi', 'Loft']\n",
       "Length: 12\n",
       "Categories (12, object): ['Flat', 'Komple Bina', 'Kooperatif', 'Köşk / Konak / Yalı', ..., 'Villa', 'Yalı Dairesi', 'Yazlık', 'Çiftlik Evi']"
      ]
     },
     "execution_count": 53,
     "metadata": {},
     "output_type": "execute_result"
    }
   ],
   "source": [
    "df['sub_type'].unique()"
   ]
  },
  {
   "cell_type": "code",
   "execution_count": 54,
   "id": "6955ddd3",
   "metadata": {},
   "outputs": [],
   "source": [
    "# Преобразовываем sub_type в числовые значения\n",
    "sub_type_mapping = {value: idx for idx, value in enumerate(df['sub_type'].unique())}\n",
    "df['sub_type'] = df['sub_type'].map(sub_type_mapping)\n",
    "df['sub_type'] = df['sub_type'].astype(int)"
   ]
  },
  {
   "cell_type": "code",
   "execution_count": 55,
   "id": "8393affd",
   "metadata": {},
   "outputs": [
    {
     "data": {
      "text/plain": [
       "['Housing']\n",
       "Categories (1, object): ['Housing']"
      ]
     },
     "execution_count": 55,
     "metadata": {},
     "output_type": "execute_result"
    }
   ],
   "source": [
    "df['type'].unique()"
   ]
  },
  {
   "cell_type": "code",
   "execution_count": 56,
   "id": "6bbbfecc",
   "metadata": {},
   "outputs": [
    {
     "data": {
      "text/plain": [
       "['Rent', 'Sale', 3]\n",
       "Categories (3, object): [3, 'Rent', 'Sale']"
      ]
     },
     "execution_count": 56,
     "metadata": {},
     "output_type": "execute_result"
    }
   ],
   "source": [
    "df['listing_type'].unique()"
   ]
  },
  {
   "cell_type": "code",
   "execution_count": 57,
   "id": "7ac95604",
   "metadata": {},
   "outputs": [],
   "source": [
    "df = df[df['listing_type'] != 3]"
   ]
  },
  {
   "cell_type": "code",
   "execution_count": 58,
   "id": "79ee9342",
   "metadata": {},
   "outputs": [],
   "source": [
    "# Создаем словарь для преобразования\n",
    "listing_type_mapping = {\n",
    "    'Rent': 0,\n",
    "    'Sale': 1\n",
    "}\n",
    "\n",
    "# Преобразуем колонку в числовой формат\n",
    "df['listing_type'] = df['listing_type'].map(listing_type_mapping)"
   ]
  },
  {
   "cell_type": "code",
   "execution_count": 59,
   "id": "9b28d2ea",
   "metadata": {},
   "outputs": [],
   "source": [
    "# Исходный массив\n",
    "heating_types = np.array(['Fancoil', 'Yok', 'Kalorifer (Doğalgaz)', 'Kalorifer (Kömür)',\n",
    "       'Kombi (Elektrikli)', 'Klima', 'Kombi (Doğalgaz)',\n",
    "       'Merkezi Sistem (Isı Payı Ölçer)', 'Merkezi Sistem',\n",
    "       'Soba (Kömür)', 'Yerden Isıtma', 'Soba (Doğalgaz)',\n",
    "       'Güneş Enerjisi', 'Kalorifer (Akaryakıt)', 'Jeotermal',\n",
    "       'Kat Kaloriferi'], dtype=object)\n",
    "\n",
    "# Создаем словарь для преобразования\n",
    "heating_mapping = {\n",
    "    'Yok': 0,\n",
    "    'Soba (Kömür)': 1,\n",
    "    'Soba (Doğalgaz)': 2,\n",
    "    'Kalorifer (Kömür)': 3,\n",
    "    'Kalorifer (Doğalgaz)': 4,\n",
    "    'Kalorifer (Akaryakıt)': 5,\n",
    "    'Kombi (Doğalgaz)': 6,\n",
    "    'Kombi (Elektrikli)': 7,\n",
    "    'Kat Kaloriferi': 8,\n",
    "    'Merkezi Sistem': 9,\n",
    "    'Merkezi Sistem (Isı Payı Ölçer)': 10,\n",
    "    'Yerden Isıtma': 11,\n",
    "    'Klima': 12,\n",
    "    'Fancoil': 13,\n",
    "    'Güneş Enerjisi': 14,\n",
    "    'Jeotermal': 15\n",
    "}\n",
    "\n",
    "# Преобразование массива в числовой формат\n",
    "numeric_values = np.array([heating_mapping.get(item, -1) for item in heating_types])\n",
    "\n",
    "df['heating_type'] = df['heating_type'].map(heating_mapping)"
   ]
  },
  {
   "cell_type": "code",
   "execution_count": 60,
   "id": "91f75bd1",
   "metadata": {},
   "outputs": [
    {
     "name": "stderr",
     "output_type": "stream",
     "text": [
      "C:\\Users\\Program\\AppData\\Local\\Temp\\ipykernel_12936\\506073164.py:11: FutureWarning: A value is trying to be set on a copy of a DataFrame or Series through chained assignment using an inplace method.\n",
      "The behavior will change in pandas 3.0. This inplace method will never work because the intermediate object on which we are setting values always behaves as a copy.\n",
      "\n",
      "For example, when doing 'df[col].method(value, inplace=True)', try using 'df.method({col: value}, inplace=True)' or df[col] = df[col].method(value) instead, to perform the operation inplace on the original object.\n",
      "\n",
      "\n",
      "  df['total_floor_count'].fillna(df['total_floor_count'].median(), inplace=True)\n"
     ]
    }
   ],
   "source": [
    "# Извлекаем первое число из строки val, возвращаем NaN если не получается\n",
    "def parse_total_floor_count(val):\n",
    "    if pd.isna(val): return np.nan\n",
    "    try:\n",
    "        return int(re.search(r'\\d+', str(val)).group())\n",
    "    except:\n",
    "        return np.nan\n",
    "\n",
    "if 'total_floor_count' in df.columns:\n",
    "    df['total_floor_count'] = df['total_floor_count'].apply(parse_total_floor_count)\n",
    "    df['total_floor_count'].fillna(df['total_floor_count'].median(), inplace=True)"
   ]
  },
  {
   "cell_type": "code",
   "execution_count": 61,
   "id": "ba92193f",
   "metadata": {},
   "outputs": [
    {
     "name": "stdout",
     "output_type": "stream",
     "text": [
      "Пропуски по столбцам:\n",
      "id                           0\n",
      "type                         0\n",
      "sub_type                     0\n",
      "start_date                   0\n",
      "end_date                134170\n",
      "listing_type                 0\n",
      "tom                          0\n",
      "building_age                 0\n",
      "total_floor_count            0\n",
      "floor_no                     0\n",
      "room_count                   0\n",
      "size                         0\n",
      "address                      0\n",
      "heating_type             27171\n",
      "price                        0\n",
      "price_currency               0\n",
      "building_age_numeric         0\n",
      "days_on_market               0\n",
      "price_per_sqm                0\n",
      "dtype: int64\n",
      "Статистика по цене:\n",
      "count    3.948220e+05\n",
      "mean     3.209093e+05\n",
      "std      3.109473e+06\n",
      "min      1.290000e+02\n",
      "25%      2.900000e+03\n",
      "50%      2.000000e+05\n",
      "75%      3.400000e+05\n",
      "max      1.650000e+09\n",
      "Name: price, dtype: float64\n"
     ]
    }
   ],
   "source": [
    "# Проверка пропусков и базовая статистика\n",
    "print('Пропуски по столбцам:')\n",
    "print(df.isnull().sum())\n",
    "print('Статистика по цене:')\n",
    "print(df['price'].describe())"
   ]
  },
  {
   "cell_type": "code",
   "execution_count": 62,
   "id": "aaa4eba0",
   "metadata": {},
   "outputs": [],
   "source": [
    "# Переводим все цены к единой валюте TRY\n",
    "def convert_to_try(row):\n",
    "    if row['price_currency'] == 'EUR':\n",
    "        return round(row['price'] * 48, 2)\n",
    "    elif row['price_currency'] == 'USD':\n",
    "        return round(row['price'] * 41, 2)\n",
    "    else:\n",
    "        return round(row['price'], 2)\n",
    "\n",
    "if 'price_currency' in df.columns and 'price' in df.columns:\n",
    "    df['price'] = df.apply(convert_to_try, axis=1)\n",
    "    df['price_currency'] = 'TRY'  # Обновляем столбец валюты\n",
    "\n",
    "# Также пересчитаем price_per_sqm\n",
    "if 'size' in df.columns and 'price' in df.columns:\n",
    "    df['price_per_sqm'] = (df['price'] / df['size']).round(2)"
   ]
  },
  {
   "cell_type": "code",
   "execution_count": 63,
   "id": "a3847862",
   "metadata": {},
   "outputs": [
    {
     "data": {
      "image/png": "[encoded data removed]",
      "text/plain": [
       "<Figure size 800x500 with 1 Axes>"
      ]
     },
     "metadata": {},
     "output_type": "display_data"
    }
   ],
   "source": [
    "# Визуализация распределения цен с ограничением\n",
    "plt.figure(figsize=(8,5))\n",
    "df[df['price'] < 2000000]['price'].hist(bins=50)\n",
    "plt.title('Распределение цен (до 2 млн)')\n",
    "plt.xlabel('Цена')\n",
    "plt.ylabel('Количество')\n",
    "plt.show()"
   ]
  },
  {
   "cell_type": "code",
   "execution_count": 64,
   "id": "33c90f03",
   "metadata": {},
   "outputs": [
    {
     "data": {
      "image/png": "[encoded data removed]",
      "text/plain": [
       "<Figure size 1000x800 with 2 Axes>"
      ]
     },
     "metadata": {},
     "output_type": "display_data"
    }
   ],
   "source": [
    "import matplotlib.pyplot as plt\n",
    "import seaborn as sns\n",
    "\n",
    "# Выбираем только числовые столбцы\n",
    "numeric_cols = df.select_dtypes(include='number')\n",
    "\n",
    "# Строим корреляционную матрицу\n",
    "corr_matrix = numeric_cols.corr()\n",
    "\n",
    "# Визуализируем тепловую карту\n",
    "plt.figure(figsize=(10,8))\n",
    "sns.heatmap(corr_matrix, annot=True, fmt=\".2f\", cmap='coolwarm')\n",
    "plt.title('Корреляция между числовыми столбцами')\n",
    "plt.show()"
   ]
  },
  {
   "cell_type": "code",
   "execution_count": 65,
   "id": "bf20cd2f",
   "metadata": {},
   "outputs": [
    {
     "data": {
      "application/vnd.microsoft.datawrangler.viewer.v0+json": {
       "columns": [
        {
         "name": "index",
         "rawType": "int64",
         "type": "integer"
        },
        {
         "name": "sub_type",
         "rawType": "int32",
         "type": "integer"
        },
        {
         "name": "listing_type",
         "rawType": "float64",
         "type": "float"
        },
        {
         "name": "total_floor_count",
         "rawType": "float64",
         "type": "float"
        },
        {
         "name": "floor_no",
         "rawType": "float64",
         "type": "float"
        },
        {
         "name": "room_count",
         "rawType": "float64",
         "type": "float"
        },
        {
         "name": "size",
         "rawType": "float64",
         "type": "float"
        },
        {
         "name": "heating_type",
         "rawType": "float64",
         "type": "float"
        },
        {
         "name": "price",
         "rawType": "float64",
         "type": "float"
        },
        {
         "name": "building_age_numeric",
         "rawType": "float64",
         "type": "float"
        },
        {
         "name": "days_on_market",
         "rawType": "int64",
         "type": "integer"
        },
        {
         "name": "price_per_sqm",
         "rawType": "float64",
         "type": "float"
        }
       ],
       "ref": "163b97a5-0cb5-48a1-9fef-89511b953776",
       "rows": [
        [
         "0",
         "0",
         "0.0",
         "20.0",
         "2.0",
         "3.0",
         "90.0",
         "13.0",
         "3500.0",
         "0.0",
         "2458",
         "38.89"
        ],
        [
         "1",
         "1",
         "1.0",
         "20.0",
         "20.0",
         "1.0",
         "43.0",
         "13.0",
         "490000.0",
         "0.0",
         "2393",
         "11395.35"
        ],
        [
         "2",
         "1",
         "1.0",
         "1.0",
         "1.0",
         "3.0",
         "110.0",
         "13.0",
         "155000.0",
         "0.0",
         "2520",
         "1409.09"
        ],
        [
         "3",
         "0",
         "1.0",
         "20.0",
         "20.0",
         "7.0",
         "450.0",
         "13.0",
         "32500000.0",
         "3.0",
         "2549",
         "72222.22"
        ],
        [
         "4",
         "0",
         "1.0",
         "20.0",
         "2.0",
         "3.0",
         "90.0",
         "13.0",
         "1450000.0",
         "0.0",
         "2458",
         "16111.11"
        ]
       ],
       "shape": {
        "columns": 11,
        "rows": 5
       }
      },
      "text/html": [
       "<div>\n",
       "<style scoped>\n",
       "    .dataframe tbody tr th:only-of-type {\n",
       "        vertical-align: middle;\n",
       "    }\n",
       "\n",
       "    .dataframe tbody tr th {\n",
       "        vertical-align: top;\n",
       "    }\n",
       "\n",
       "    .dataframe thead th {\n",
       "        text-align: right;\n",
       "    }\n",
       "</style>\n",
       "<table border=\"1\" class=\"dataframe\">\n",
       "  <thead>\n",
       "    <tr style=\"text-align: right;\">\n",
       "      <th></th>\n",
       "      <th>sub_type</th>\n",
       "      <th>listing_type</th>\n",
       "      <th>total_floor_count</th>\n",
       "      <th>floor_no</th>\n",
       "      <th>room_count</th>\n",
       "      <th>size</th>\n",
       "      <th>heating_type</th>\n",
       "      <th>price</th>\n",
       "      <th>building_age_numeric</th>\n",
       "      <th>days_on_market</th>\n",
       "      <th>price_per_sqm</th>\n",
       "    </tr>\n",
       "  </thead>\n",
       "  <tbody>\n",
       "    <tr>\n",
       "      <th>0</th>\n",
       "      <td>0</td>\n",
       "      <td>0.0</td>\n",
       "      <td>20.0</td>\n",
       "      <td>2.0</td>\n",
       "      <td>3.0</td>\n",
       "      <td>90.0</td>\n",
       "      <td>13.0</td>\n",
       "      <td>3500.0</td>\n",
       "      <td>0.0</td>\n",
       "      <td>2458</td>\n",
       "      <td>38.89</td>\n",
       "    </tr>\n",
       "    <tr>\n",
       "      <th>1</th>\n",
       "      <td>1</td>\n",
       "      <td>1.0</td>\n",
       "      <td>20.0</td>\n",
       "      <td>20.0</td>\n",
       "      <td>1.0</td>\n",
       "      <td>43.0</td>\n",
       "      <td>13.0</td>\n",
       "      <td>490000.0</td>\n",
       "      <td>0.0</td>\n",
       "      <td>2393</td>\n",
       "      <td>11395.35</td>\n",
       "    </tr>\n",
       "    <tr>\n",
       "      <th>2</th>\n",
       "      <td>1</td>\n",
       "      <td>1.0</td>\n",
       "      <td>1.0</td>\n",
       "      <td>1.0</td>\n",
       "      <td>3.0</td>\n",
       "      <td>110.0</td>\n",
       "      <td>13.0</td>\n",
       "      <td>155000.0</td>\n",
       "      <td>0.0</td>\n",
       "      <td>2520</td>\n",
       "      <td>1409.09</td>\n",
       "    </tr>\n",
       "    <tr>\n",
       "      <th>3</th>\n",
       "      <td>0</td>\n",
       "      <td>1.0</td>\n",
       "      <td>20.0</td>\n",
       "      <td>20.0</td>\n",
       "      <td>7.0</td>\n",
       "      <td>450.0</td>\n",
       "      <td>13.0</td>\n",
       "      <td>32500000.0</td>\n",
       "      <td>3.0</td>\n",
       "      <td>2549</td>\n",
       "      <td>72222.22</td>\n",
       "    </tr>\n",
       "    <tr>\n",
       "      <th>4</th>\n",
       "      <td>0</td>\n",
       "      <td>1.0</td>\n",
       "      <td>20.0</td>\n",
       "      <td>2.0</td>\n",
       "      <td>3.0</td>\n",
       "      <td>90.0</td>\n",
       "      <td>13.0</td>\n",
       "      <td>1450000.0</td>\n",
       "      <td>0.0</td>\n",
       "      <td>2458</td>\n",
       "      <td>16111.11</td>\n",
       "    </tr>\n",
       "  </tbody>\n",
       "</table>\n",
       "</div>"
      ],
      "text/plain": [
       "   sub_type  listing_type  total_floor_count  floor_no  room_count   size  \\\n",
       "0         0           0.0               20.0       2.0         3.0   90.0   \n",
       "1         1           1.0               20.0      20.0         1.0   43.0   \n",
       "2         1           1.0                1.0       1.0         3.0  110.0   \n",
       "3         0           1.0               20.0      20.0         7.0  450.0   \n",
       "4         0           1.0               20.0       2.0         3.0   90.0   \n",
       "\n",
       "   heating_type       price  building_age_numeric  days_on_market  \\\n",
       "0          13.0      3500.0                   0.0            2458   \n",
       "1          13.0    490000.0                   0.0            2393   \n",
       "2          13.0    155000.0                   0.0            2520   \n",
       "3          13.0  32500000.0                   3.0            2549   \n",
       "4          13.0   1450000.0                   0.0            2458   \n",
       "\n",
       "   price_per_sqm  \n",
       "0          38.89  \n",
       "1       11395.35  \n",
       "2        1409.09  \n",
       "3       72222.22  \n",
       "4       16111.11  "
      ]
     },
     "execution_count": 65,
     "metadata": {},
     "output_type": "execute_result"
    }
   ],
   "source": [
    "# Удаляем ненужные столбцы\n",
    "drop_cols = [\n",
    "    'id', 'address', 'start_date', 'end_date', 'tom', 'building_age',\n",
    "    'type', 'price_currency', 'furnished'\n",
    "]\n",
    "df.drop(columns=[col for col in drop_cols if col in df.columns], inplace=True)\n",
    "df.head()"
   ]
  },
  {
   "cell_type": "markdown",
   "id": "d8680944",
   "metadata": {},
   "source": [
    "###### Удаляем именно эти столбцы, потому что они не несут полезной информации для дальнейшего анализа."
   ]
  },
  {
   "cell_type": "code",
   "execution_count": 66,
   "id": "a3a74d2f",
   "metadata": {},
   "outputs": [],
   "source": [
    "# Удаляем все строки, где есть 'Unknown' в любом столбце\n",
    "df = df[~df.apply(lambda row: row.astype(str).str.contains('Unknown').any(), axis=1)]"
   ]
  },
  {
   "cell_type": "markdown",
   "id": "09e1d9c5",
   "metadata": {},
   "source": [
    "___"
   ]
  },
  {
   "cell_type": "markdown",
   "id": "1b1dd42c",
   "metadata": {},
   "source": [
    "### Визуализация оставшихся столбцов"
   ]
  },
  {
   "cell_type": "code",
   "execution_count": 67,
   "id": "b42dd7ff",
   "metadata": {},
   "outputs": [
    {
     "data": {
      "text/plain": [
       "Index(['sub_type', 'listing_type', 'total_floor_count', 'floor_no',\n",
       "       'room_count', 'size', 'heating_type', 'price', 'building_age_numeric',\n",
       "       'days_on_market', 'price_per_sqm'],\n",
       "      dtype='object')"
      ]
     },
     "execution_count": 67,
     "metadata": {},
     "output_type": "execute_result"
    }
   ],
   "source": [
    "df.columns"
   ]
  },
  {
   "cell_type": "code",
   "execution_count": 69,
   "id": "d9fbe5b7",
   "metadata": {},
   "outputs": [
    {
     "data": {
      "image/png": "[encoded data removed]",
      "text/plain": [
       "<Figure size 1200x1200 with 11 Axes>"
      ]
     },
     "metadata": {},
     "output_type": "display_data"
    }
   ],
   "source": [
    "import matplotlib.pyplot as plt\n",
    "import seaborn as sns\n",
    "\n",
    "numeric_cols = df.select_dtypes(include='number')\n",
    "\n",
    "plt.figure(figsize=(12, 12))\n",
    "for i, col in enumerate(numeric_cols, 1):\n",
    "    plt.subplot(6, 2, i)\n",
    "    sns.histplot(df[col], bins=30, kde=True, color='#1976d2')\n",
    "    plt.title(f'Распределение {col}')\n",
    "    plt.xlabel(col)\n",
    "    plt.ylabel('Количество')\n",
    "plt.tight_layout()\n",
    "plt.show()"
   ]
  },
  {
   "cell_type": "code",
   "execution_count": 70,
   "id": "4e9f47be",
   "metadata": {},
   "outputs": [
    {
     "data": {
      "image/png": "[encoded data removed]",
      "text/plain": [
       "<Figure size 1000x800 with 2 Axes>"
      ]
     },
     "metadata": {},
     "output_type": "display_data"
    }
   ],
   "source": [
    "numeric_cols = df.select_dtypes(include='number')\n",
    "\n",
    "# Строим корреляционную матрицу\n",
    "corr_matrix = numeric_cols.corr()\n",
    "\n",
    "# Визуализируем тепловую карту\n",
    "plt.figure(figsize=(10,8))\n",
    "sns.heatmap(corr_matrix, annot=True, fmt=\".2f\", cmap='coolwarm')\n",
    "plt.title('Корреляция между числовыми столбцами')\n",
    "plt.show()"
   ]
  },
  {
   "cell_type": "code",
   "execution_count": 71,
   "id": "a5f6b7d9",
   "metadata": {},
   "outputs": [
    {
     "name": "stdout",
     "output_type": "stream",
     "text": [
      "<class 'pandas.core.frame.DataFrame'>\n",
      "Index: 394822 entries, 0 to 403486\n",
      "Data columns (total 11 columns):\n",
      " #   Column                Non-Null Count   Dtype  \n",
      "---  ------                --------------   -----  \n",
      " 0   sub_type              394822 non-null  int32  \n",
      " 1   listing_type          394822 non-null  float64\n",
      " 2   total_floor_count     394822 non-null  float64\n",
      " 3   floor_no              394822 non-null  float64\n",
      " 4   room_count            394822 non-null  float64\n",
      " 5   size                  394822 non-null  float64\n",
      " 6   heating_type          367651 non-null  float64\n",
      " 7   price                 394822 non-null  float64\n",
      " 8   building_age_numeric  394822 non-null  float64\n",
      " 9   days_on_market        394822 non-null  int64  \n",
      " 10  price_per_sqm         394822 non-null  float64\n",
      "dtypes: float64(9), int32(1), int64(1)\n",
      "memory usage: 34.6 MB\n"
     ]
    }
   ],
   "source": [
    "df.info()"
   ]
  },
  {
   "cell_type": "markdown",
   "id": "f5d769ed",
   "metadata": {},
   "source": [
    "___"
   ]
  },
  {
   "cell_type": "markdown",
   "id": "d74ca458",
   "metadata": {},
   "source": [
    "### Ансамблевые методы"
   ]
  },
  {
   "cell_type": "code",
   "execution_count": 72,
   "id": "829ae957",
   "metadata": {},
   "outputs": [
    {
     "name": "stdout",
     "output_type": "stream",
     "text": [
      "Размер обучающей выборки: (294120, 11)\n",
      "Размер тестовой выборки: (73531, 11)\n"
     ]
    }
   ],
   "source": [
    "# Импортируем необходимые библиотеки\n",
    "from sklearn.ensemble import BaggingRegressor, AdaBoostRegressor, StackingRegressor\n",
    "from sklearn.ensemble import RandomForestRegressor\n",
    "from sklearn.linear_model import LinearRegression\n",
    "from sklearn.tree import DecisionTreeRegressor\n",
    "from sklearn.model_selection import train_test_split\n",
    "from sklearn.metrics import mean_squared_error, r2_score, mean_absolute_error\n",
    "import numpy as np\n",
    "\n",
    "# Подготовка данных для моделирования\n",
    "# Выбираем целевую переменную и признаки\n",
    "X = df.select_dtypes(include='number').copy()\n",
    "y = df['price'].copy()\n",
    "\n",
    "mask = ~(X.isnull().any(axis=1) | y.isnull())\n",
    "X = X[mask]\n",
    "y = y[mask]\n",
    "\n",
    "# Разделение данных на обучающую и тестовую выборки\n",
    "X_train, X_test, y_train, y_test = train_test_split(X, y, test_size=0.2, random_state=42)\n",
    "\n",
    "print(f\"Размер обучающей выборки: {X_train.shape}\")\n",
    "print(f\"Размер тестовой выборки: {X_test.shape}\")"
   ]
  },
  {
   "cell_type": "code",
   "execution_count": 73,
   "id": "625fd0c1",
   "metadata": {},
   "outputs": [
    {
     "name": "stdout",
     "output_type": "stream",
     "text": [
      "Обучение BaggingRegressor...\n",
      "\n",
      "=== BaggingRegressor (Random Forest) ===\n",
      "MSE: 13563575864935.06\n",
      "RMSE: 3682876.03\n",
      "MAE: 14752.64\n",
      "R²: 0.6981\n"
     ]
    }
   ],
   "source": [
    "# Создание BaggingRegressor с базовыми моделями Random Forest\n",
    "bagging_rf = BaggingRegressor(\n",
    "    estimator=RandomForestRegressor(n_estimators=50, random_state=42),\n",
    "    n_estimators=10,\n",
    "    random_state=42,\n",
    "    n_jobs=-1\n",
    ")\n",
    "\n",
    "# Обучение модели\n",
    "print(\"Обучение BaggingRegressor...\")\n",
    "bagging_rf.fit(X_train, y_train)\n",
    "\n",
    "# Предсказания\n",
    "y_pred_bagging = bagging_rf.predict(X_test)\n",
    "\n",
    "# Оценка качества\n",
    "mse_bagging = mean_squared_error(y_test, y_pred_bagging)\n",
    "rmse_bagging = np.sqrt(mse_bagging)\n",
    "r2_bagging = r2_score(y_test, y_pred_bagging)\n",
    "mae_bagging = mean_absolute_error(y_test, y_pred_bagging)\n",
    "\n",
    "print(f\"\\n=== BaggingRegressor (Random Forest) ===\")\n",
    "print(f\"MSE: {mse_bagging:.2f}\")\n",
    "print(f\"RMSE: {rmse_bagging:.2f}\")\n",
    "print(f\"MAE: {mae_bagging:.2f}\")\n",
    "print(f\"R²: {r2_bagging:.4f}\")"
   ]
  },
  {
   "cell_type": "code",
   "execution_count": 74,
   "id": "83b936a1",
   "metadata": {},
   "outputs": [
    {
     "name": "stdout",
     "output_type": "stream",
     "text": [
      "Обучение AdaBoostRegressor...\n",
      "\n",
      "=== AdaBoostRegressor ===\n",
      "MSE: 14600338703346.19\n",
      "RMSE: 3821038.96\n",
      "MAE: 154115.05\n",
      "R²: 0.6750\n"
     ]
    }
   ],
   "source": [
    "# Создание AdaBoostRegressor\n",
    "adaboost = AdaBoostRegressor(\n",
    "    estimator=DecisionTreeRegressor(max_depth=5, random_state=42),\n",
    "    n_estimators=100,\n",
    "    learning_rate=0.1,\n",
    "    random_state=42\n",
    ")\n",
    "\n",
    "# Обучение модели\n",
    "print(\"Обучение AdaBoostRegressor...\")\n",
    "adaboost.fit(X_train, y_train)\n",
    "\n",
    "# Предсказания\n",
    "y_pred_adaboost = adaboost.predict(X_test)\n",
    "\n",
    "# Оценка качества\n",
    "mse_adaboost = mean_squared_error(y_test, y_pred_adaboost)\n",
    "rmse_adaboost = np.sqrt(mse_adaboost)\n",
    "r2_adaboost = r2_score(y_test, y_pred_adaboost)\n",
    "mae_adaboost = mean_absolute_error(y_test, y_pred_adaboost)\n",
    "\n",
    "print(f\"\\n=== AdaBoostRegressor ===\")\n",
    "print(f\"MSE: {mse_adaboost:.2f}\")\n",
    "print(f\"RMSE: {rmse_adaboost:.2f}\")\n",
    "print(f\"MAE: {mae_adaboost:.2f}\")\n",
    "print(f\"R²: {r2_adaboost:.4f}\")"
   ]
  },
  {
   "cell_type": "code",
   "execution_count": 75,
   "id": "060db394",
   "metadata": {},
   "outputs": [
    {
     "name": "stdout",
     "output_type": "stream",
     "text": [
      "Обучение StackingRegressor...\n",
      "\n",
      "=== StackingRegressor ===\n",
      "MSE: 8182151958697.30\n",
      "RMSE: 2860446.11\n",
      "MAE: 73847.57\n",
      "R²: 0.8179\n"
     ]
    }
   ],
   "source": [
    "# Создание StackingRegressor\n",
    "# Определяем базовые модели\n",
    "base_models = [\n",
    "    ('rf', RandomForestRegressor(n_estimators=50, random_state=42)),\n",
    "    ('bagging', BaggingRegressor(n_estimators=10, random_state=42)),\n",
    "    ('adaboost', AdaBoostRegressor(n_estimators=50, learning_rate=0.1, random_state=42))\n",
    "]\n",
    "\n",
    "# Создаем стекинг модель\n",
    "stacking = StackingRegressor(\n",
    "    estimators=base_models,\n",
    "    final_estimator=LinearRegression(),\n",
    "    cv=5,\n",
    "    n_jobs=-1\n",
    ")\n",
    "\n",
    "# Обучение модели\n",
    "print(\"Обучение StackingRegressor...\")\n",
    "stacking.fit(X_train, y_train)\n",
    "\n",
    "# Предсказания\n",
    "y_pred_stacking = stacking.predict(X_test)\n",
    "\n",
    "# Оценка качества\n",
    "mse_stacking = mean_squared_error(y_test, y_pred_stacking)\n",
    "rmse_stacking = np.sqrt(mse_stacking)\n",
    "r2_stacking = r2_score(y_test, y_pred_stacking)\n",
    "mae_stacking = mean_absolute_error(y_test, y_pred_stacking)\n",
    "\n",
    "print(f\"\\n=== StackingRegressor ===\")\n",
    "print(f\"MSE: {mse_stacking:.2f}\")\n",
    "print(f\"RMSE: {rmse_stacking:.2f}\")\n",
    "print(f\"MAE: {mae_stacking:.2f}\")\n",
    "print(f\"R²: {r2_stacking:.4f}\")"
   ]
  },
  {
   "cell_type": "markdown",
   "id": "2524be6b",
   "metadata": {},
   "source": [
    "## Ансамблевые методы класификации"
   ]
  },
  {
   "cell_type": "code",
   "execution_count": 77,
   "id": "2c3b4950",
   "metadata": {},
   "outputs": [
    {
     "name": "stdout",
     "output_type": "stream",
     "text": [
      "Размер обучающей выборки: (315857, 8)\n",
      "Размер тестовой выборки: (78965, 8)\n",
      "Распределение классов в обучающей выборке:\n",
      "sub_type\n",
      "1     276971\n",
      "2      17010\n",
      "3       7644\n",
      "0       5987\n",
      "5       4725\n",
      "6       2085\n",
      "7        540\n",
      "9        422\n",
      "8        241\n",
      "10       149\n",
      "4         56\n",
      "11        27\n",
      "Name: count, dtype: int64\n"
     ]
    }
   ],
   "source": [
    "### Классификация по типу недвижимости\n",
    "from sklearn.ensemble import RandomForestClassifier, BaggingClassifier, AdaBoostClassifier, StackingClassifier\n",
    "from sklearn.linear_model import LogisticRegression\n",
    "from sklearn.tree import DecisionTreeClassifier\n",
    "from sklearn.model_selection import train_test_split\n",
    "from sklearn.metrics import classification_report, accuracy_score\n",
    "from sklearn.preprocessing import StandardScaler \n",
    "\n",
    "# Подготовка данных\n",
    "# Признаки\n",
    "X = df[['total_floor_count', 'floor_no', 'room_count', 'size', 'building_age_numeric', \n",
    "        'days_on_market', 'price_per_sqm', 'price']].copy()\n",
    "\n",
    "# Целевая переменная - тип недвижимости\n",
    "y = df['sub_type'].copy()\n",
    "\n",
    "# Удаление строк с пропущенными значениями\n",
    "mask = ~(X.isnull().any(axis=1) | y.isnull())\n",
    "X = X[mask]\n",
    "y = y[mask]\n",
    "\n",
    "# Разделение данных\n",
    "X_train, X_test, y_train, y_test = train_test_split(X, y, test_size=0.2, random_state=42, stratify=y)\n",
    "\n",
    "# Масштабирование признаков\n",
    "scaler = StandardScaler()\n",
    "X_train_scaled = scaler.fit_transform(X_train)\n",
    "X_test_scaled = scaler.transform(X_test)\n",
    "\n",
    "print(f\"Размер обучающей выборки: {X_train.shape}\")\n",
    "print(f\"Размер тестовой выборки: {X_test.shape}\")\n",
    "print(f\"Распределение классов в обучающей выборке:\")\n",
    "print(y_train.value_counts())"
   ]
  },
  {
   "cell_type": "code",
   "execution_count": 78,
   "id": "4b8d3453",
   "metadata": {},
   "outputs": [
    {
     "name": "stdout",
     "output_type": "stream",
     "text": [
      "=== Bagging Classifier ===\n",
      "Accuracy: 0.9379\n",
      "\n",
      "Classification Report:\n",
      "              precision    recall  f1-score   support\n",
      "\n",
      "           0       0.69      0.53      0.60      1497\n",
      "           1       0.97      0.98      0.97     69244\n",
      "           2       0.74      0.77      0.76      4252\n",
      "           3       0.65      0.49      0.56      1911\n",
      "           4       1.00      0.14      0.25        14\n",
      "           5       0.61      0.42      0.50      1181\n",
      "           6       0.74      0.58      0.65       521\n",
      "           7       0.83      0.84      0.83       135\n",
      "           8       0.78      0.48      0.60        60\n",
      "           9       0.75      0.38      0.50       106\n",
      "          10       0.82      0.49      0.61        37\n",
      "          11       1.00      0.43      0.60         7\n",
      "\n",
      "    accuracy                           0.94     78965\n",
      "   macro avg       0.80      0.54      0.62     78965\n",
      "weighted avg       0.93      0.94      0.93     78965\n",
      "\n"
     ]
    }
   ],
   "source": [
    "# 1. Bagging Classifier\n",
    "bagging_clf = BaggingClassifier(\n",
    "    estimator=DecisionTreeClassifier(random_state=42),\n",
    "    n_estimators=10,\n",
    "    random_state=42,\n",
    "    n_jobs=-1\n",
    ")\n",
    "\n",
    "bagging_clf.fit(X_train_scaled, y_train)\n",
    "y_pred_bagging = bagging_clf.predict(X_test_scaled)\n",
    "\n",
    "print(\"=== Bagging Classifier ===\")\n",
    "print(f\"Accuracy: {accuracy_score(y_test, y_pred_bagging):.4f}\")\n",
    "print(\"\\nClassification Report:\")\n",
    "print(classification_report(y_test, y_pred_bagging))"
   ]
  },
  {
   "cell_type": "code",
   "execution_count": 79,
   "id": "12536bb8",
   "metadata": {},
   "outputs": [
    {
     "name": "stdout",
     "output_type": "stream",
     "text": [
      "=== AdaBoost Classifier ===\n",
      "Accuracy: 0.8925\n",
      "\n",
      "Classification Report:\n",
      "              precision    recall  f1-score   support\n",
      "\n",
      "           0       0.00      0.00      0.00      1497\n",
      "           1       0.90      1.00      0.95     69244\n",
      "           2       0.70      0.31      0.43      4252\n",
      "           3       0.00      0.00      0.00      1911\n",
      "           4       0.00      0.00      0.00        14\n",
      "           5       0.00      0.00      0.00      1181\n",
      "           6       0.00      0.00      0.00       521\n",
      "           7       0.00      0.00      0.00       135\n",
      "           8       0.00      0.00      0.00        60\n",
      "           9       0.00      0.00      0.00       106\n",
      "          10       0.00      0.00      0.00        37\n",
      "          11       0.00      0.00      0.00         7\n",
      "\n",
      "    accuracy                           0.89     78965\n",
      "   macro avg       0.13      0.11      0.11     78965\n",
      "weighted avg       0.82      0.89      0.85     78965\n",
      "\n"
     ]
    },
    {
     "name": "stderr",
     "output_type": "stream",
     "text": [
      "c:\\Users\\Program\\Desktop\\Program\\MachineLearning\\.venv\\Lib\\site-packages\\sklearn\\metrics\\_classification.py:1565: UndefinedMetricWarning: Precision is ill-defined and being set to 0.0 in labels with no predicted samples. Use `zero_division` parameter to control this behavior.\n",
      "  _warn_prf(average, modifier, f\"{metric.capitalize()} is\", len(result))\n",
      "c:\\Users\\Program\\Desktop\\Program\\MachineLearning\\.venv\\Lib\\site-packages\\sklearn\\metrics\\_classification.py:1565: UndefinedMetricWarning: Precision is ill-defined and being set to 0.0 in labels with no predicted samples. Use `zero_division` parameter to control this behavior.\n",
      "  _warn_prf(average, modifier, f\"{metric.capitalize()} is\", len(result))\n",
      "c:\\Users\\Program\\Desktop\\Program\\MachineLearning\\.venv\\Lib\\site-packages\\sklearn\\metrics\\_classification.py:1565: UndefinedMetricWarning: Precision is ill-defined and being set to 0.0 in labels with no predicted samples. Use `zero_division` parameter to control this behavior.\n",
      "  _warn_prf(average, modifier, f\"{metric.capitalize()} is\", len(result))\n"
     ]
    }
   ],
   "source": [
    "# 2. AdaBoost Classifier\n",
    "adaboost_clf = AdaBoostClassifier(\n",
    "    estimator=DecisionTreeClassifier(max_depth=1, random_state=42),\n",
    "    n_estimators=100,\n",
    "    learning_rate=0.1,\n",
    "    random_state=42\n",
    ")\n",
    "\n",
    "adaboost_clf.fit(X_train_scaled, y_train)\n",
    "y_pred_adaboost = adaboost_clf.predict(X_test_scaled)\n",
    "\n",
    "print(\"=== AdaBoost Classifier ===\")\n",
    "print(f\"Accuracy: {accuracy_score(y_test, y_pred_adaboost):.4f}\")\n",
    "print(\"\\nClassification Report:\")\n",
    "print(classification_report(y_test, y_pred_adaboost))"
   ]
  },
  {
   "cell_type": "code",
   "execution_count": 80,
   "id": "0d03490e",
   "metadata": {},
   "outputs": [
    {
     "name": "stdout",
     "output_type": "stream",
     "text": [
      "=== Stacking Classifier ===\n",
      "Accuracy: 0.9435\n",
      "\n",
      "Classification Report:\n",
      "              precision    recall  f1-score   support\n",
      "\n",
      "           0       0.84      0.52      0.64      1497\n",
      "           1       0.96      0.99      0.98     69244\n",
      "           2       0.75      0.79      0.77      4252\n",
      "           3       0.70      0.50      0.58      1911\n",
      "           4       1.00      0.07      0.13        14\n",
      "           5       0.68      0.43      0.53      1181\n",
      "           6       0.83      0.58      0.68       521\n",
      "           7       0.91      0.80      0.85       135\n",
      "           8       0.90      0.47      0.62        60\n",
      "           9       0.89      0.39      0.54       106\n",
      "          10       0.95      0.57      0.71        37\n",
      "          11       0.00      0.00      0.00         7\n",
      "\n",
      "    accuracy                           0.94     78965\n",
      "   macro avg       0.79      0.51      0.59     78965\n",
      "weighted avg       0.94      0.94      0.94     78965\n",
      "\n"
     ]
    },
    {
     "name": "stderr",
     "output_type": "stream",
     "text": [
      "c:\\Users\\Program\\Desktop\\Program\\MachineLearning\\.venv\\Lib\\site-packages\\sklearn\\metrics\\_classification.py:1565: UndefinedMetricWarning: Precision is ill-defined and being set to 0.0 in labels with no predicted samples. Use `zero_division` parameter to control this behavior.\n",
      "  _warn_prf(average, modifier, f\"{metric.capitalize()} is\", len(result))\n",
      "c:\\Users\\Program\\Desktop\\Program\\MachineLearning\\.venv\\Lib\\site-packages\\sklearn\\metrics\\_classification.py:1565: UndefinedMetricWarning: Precision is ill-defined and being set to 0.0 in labels with no predicted samples. Use `zero_division` parameter to control this behavior.\n",
      "  _warn_prf(average, modifier, f\"{metric.capitalize()} is\", len(result))\n",
      "c:\\Users\\Program\\Desktop\\Program\\MachineLearning\\.venv\\Lib\\site-packages\\sklearn\\metrics\\_classification.py:1565: UndefinedMetricWarning: Precision is ill-defined and being set to 0.0 in labels with no predicted samples. Use `zero_division` parameter to control this behavior.\n",
      "  _warn_prf(average, modifier, f\"{metric.capitalize()} is\", len(result))\n"
     ]
    }
   ],
   "source": [
    "# 3. Stacking Classifier\n",
    "base_classifiers = [\n",
    "    ('rf', RandomForestClassifier(n_estimators=50, random_state=42)),\n",
    "    ('bagging', BaggingClassifier(n_estimators=10, random_state=42)),\n",
    "    ('adaboost', AdaBoostClassifier(n_estimators=50, learning_rate=0.1, random_state=42))\n",
    "]\n",
    "\n",
    "stacking_clf = StackingClassifier(\n",
    "    estimators=base_classifiers,\n",
    "    final_estimator=LogisticRegression(random_state=42),cv=5,n_jobs=-1)\n",
    "\n",
    "stacking_clf.fit(X_train_scaled, y_train)\n",
    "y_pred_stacking = stacking_clf.predict(X_test_scaled)\n",
    "\n",
    "print(\"=== Stacking Classifier ===\")\n",
    "print(f\"Accuracy: {accuracy_score(y_test, y_pred_stacking):.4f}\")\n",
    "print(\"\\nClassification Report:\")\n",
    "print(classification_report(y_test, y_pred_stacking))"
   ]
  },
  {
   "cell_type": "markdown",
   "id": "21cc73e6",
   "metadata": {},
   "source": [
    "## Сохранение моделей"
   ]
  },
  {
   "cell_type": "code",
   "execution_count": 81,
   "id": "98719731",
   "metadata": {},
   "outputs": [
    {
     "name": "stdout",
     "output_type": "stream",
     "text": [
      "Все модели успешно сохранены.\n"
     ]
    }
   ],
   "source": [
    "import pickle\n",
    "\n",
    "# Сохранение моделей регресси\n",
    "with open('stacking_regressor_model.pkl', 'wb') as f:\n",
    "    pickle.dump(stacking, f)\n",
    "\n",
    "# Сохранение моделей классификации\n",
    "with open('stacking_classifier_model.pkl', 'wb') as f:\n",
    "    pickle.dump(stacking_clf, f)\n",
    "\n",
    "print(\"Все модели успешно сохранены.\")"
   ]
  }
 ],
 "metadata": {
  "kernelspec": {
   "display_name": ".venv (3.12.9)",
   "language": "python",
   "name": "python3"
  },
  "language_info": {
   "codemirror_mode": {
    "name": "ipython",
    "version": 3
   },
   "file_extension": ".py",
   "mimetype": "text/x-python",
   "name": "python",
   "nbconvert_exporter": "python",
   "pygments_lexer": "ipython3",
   "version": "3.12.10"
  }
 },
 "nbformat": 4,
 "nbformat_minor": 5
}
